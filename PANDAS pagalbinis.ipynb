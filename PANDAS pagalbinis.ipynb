{
 "cells": [
  {
   "cell_type": "code",
   "execution_count": 333,
   "id": "3e5ed0cc-0d18-41de-abdf-d0a8ea4e3830",
   "metadata": {},
   "outputs": [],
   "source": [
    "import pandas as pd\n",
    "\n",
    "person = {\n",
    "    \"first\": \"Mykas\",\n",
    "    \"last\": \"RUtkauskas\",\n",
    "    \"email\": \"myk.rut@milo.lt\"\n",
    "}"
   ]
  },
  {
   "cell_type": "code",
   "execution_count": 334,
   "id": "9e33da74-fa91-46b7-8434-91c7f68ccca2",
   "metadata": {},
   "outputs": [],
   "source": [
    "people = {\n",
    "    \"first\": [\"Mykas\"],\n",
    "    \"last\": [\"RUtkauskas\"],\n",
    "    \"email\": [\"myk.rut@milo.lt\"]\n",
    "}"
   ]
  },
  {
   "cell_type": "code",
   "execution_count": 335,
   "id": "2a795b24-655d-4e39-b0b4-2eec2e5d6ecf",
   "metadata": {},
   "outputs": [],
   "source": [
    "people = {\n",
    "    \"first\": [\"Mykas\", \"Jane\", \"Tim\"],\n",
    "    \"last\": [\"RUtkauskas\", \"Anders\", \"Johnson\"],\n",
    "    \"email\": [\"myk.rut@milo.lt\", \"janders@yahoo.com\", \"timjogn@gmail.com\"]\n",
    "}"
   ]
  },
  {
   "cell_type": "code",
   "execution_count": 336,
   "id": "78b8dca5-cf8d-486e-aa4f-54f867470309",
   "metadata": {},
   "outputs": [
    {
     "data": {
      "text/plain": [
       "['myk.rut@milo.lt', 'janders@yahoo.com', 'timjogn@gmail.com']"
      ]
     },
     "execution_count": 336,
     "metadata": {},
     "output_type": "execute_result"
    }
   ],
   "source": [
    "people[\"email\"]"
   ]
  },
  {
   "cell_type": "code",
   "execution_count": 337,
   "id": "2cf1cd6e-2f2f-4066-ab0f-59330c36ff4e",
   "metadata": {},
   "outputs": [],
   "source": [
    "df= pd.DataFrame(people)"
   ]
  },
  {
   "cell_type": "code",
   "execution_count": 338,
   "id": "75298479-a0df-483c-9d91-eea8499a4e38",
   "metadata": {},
   "outputs": [
    {
     "data": {
      "text/html": [
       "<div>\n",
       "<style scoped>\n",
       "    .dataframe tbody tr th:only-of-type {\n",
       "        vertical-align: middle;\n",
       "    }\n",
       "\n",
       "    .dataframe tbody tr th {\n",
       "        vertical-align: top;\n",
       "    }\n",
       "\n",
       "    .dataframe thead th {\n",
       "        text-align: right;\n",
       "    }\n",
       "</style>\n",
       "<table border=\"1\" class=\"dataframe\">\n",
       "  <thead>\n",
       "    <tr style=\"text-align: right;\">\n",
       "      <th></th>\n",
       "      <th>first</th>\n",
       "      <th>last</th>\n",
       "      <th>email</th>\n",
       "    </tr>\n",
       "  </thead>\n",
       "  <tbody>\n",
       "    <tr>\n",
       "      <th>0</th>\n",
       "      <td>Mykas</td>\n",
       "      <td>RUtkauskas</td>\n",
       "      <td>myk.rut@milo.lt</td>\n",
       "    </tr>\n",
       "    <tr>\n",
       "      <th>1</th>\n",
       "      <td>Jane</td>\n",
       "      <td>Anders</td>\n",
       "      <td>janders@yahoo.com</td>\n",
       "    </tr>\n",
       "    <tr>\n",
       "      <th>2</th>\n",
       "      <td>Tim</td>\n",
       "      <td>Johnson</td>\n",
       "      <td>timjogn@gmail.com</td>\n",
       "    </tr>\n",
       "  </tbody>\n",
       "</table>\n",
       "</div>"
      ],
      "text/plain": [
       "   first        last              email\n",
       "0  Mykas  RUtkauskas    myk.rut@milo.lt\n",
       "1   Jane      Anders  janders@yahoo.com\n",
       "2    Tim     Johnson  timjogn@gmail.com"
      ]
     },
     "execution_count": 338,
     "metadata": {},
     "output_type": "execute_result"
    }
   ],
   "source": [
    "df"
   ]
  },
  {
   "cell_type": "code",
   "execution_count": 339,
   "id": "f144ebb9-7747-45a1-9810-8c2d967c9be3",
   "metadata": {},
   "outputs": [],
   "source": [
    "df.set_index(\"email\", inplace=True)"
   ]
  },
  {
   "cell_type": "code",
   "execution_count": 340,
   "id": "de96604e-ed8b-4452-90ce-96b4699ad3eb",
   "metadata": {},
   "outputs": [
    {
     "data": {
      "text/plain": [
       "Index(['myk.rut@milo.lt', 'janders@yahoo.com', 'timjogn@gmail.com'], dtype='object', name='email')"
      ]
     },
     "execution_count": 340,
     "metadata": {},
     "output_type": "execute_result"
    }
   ],
   "source": [
    "df.index"
   ]
  },
  {
   "cell_type": "code",
   "execution_count": 341,
   "id": "ba83d300-76a7-484d-928b-ac02b614b73c",
   "metadata": {},
   "outputs": [
    {
     "data": {
      "text/html": [
       "<div>\n",
       "<style scoped>\n",
       "    .dataframe tbody tr th:only-of-type {\n",
       "        vertical-align: middle;\n",
       "    }\n",
       "\n",
       "    .dataframe tbody tr th {\n",
       "        vertical-align: top;\n",
       "    }\n",
       "\n",
       "    .dataframe thead th {\n",
       "        text-align: right;\n",
       "    }\n",
       "</style>\n",
       "<table border=\"1\" class=\"dataframe\">\n",
       "  <thead>\n",
       "    <tr style=\"text-align: right;\">\n",
       "      <th></th>\n",
       "      <th>last</th>\n",
       "      <th>first</th>\n",
       "    </tr>\n",
       "    <tr>\n",
       "      <th>email</th>\n",
       "      <th></th>\n",
       "      <th></th>\n",
       "    </tr>\n",
       "  </thead>\n",
       "  <tbody>\n",
       "    <tr>\n",
       "      <th>myk.rut@milo.lt</th>\n",
       "      <td>RUtkauskas</td>\n",
       "      <td>Mykas</td>\n",
       "    </tr>\n",
       "    <tr>\n",
       "      <th>janders@yahoo.com</th>\n",
       "      <td>Anders</td>\n",
       "      <td>Jane</td>\n",
       "    </tr>\n",
       "  </tbody>\n",
       "</table>\n",
       "</div>"
      ],
      "text/plain": [
       "                         last  first\n",
       "email                               \n",
       "myk.rut@milo.lt    RUtkauskas  Mykas\n",
       "janders@yahoo.com      Anders   Jane"
      ]
     },
     "execution_count": 341,
     "metadata": {},
     "output_type": "execute_result"
    }
   ],
   "source": [
    "df.loc[\"myk.rut@milo.lt\":\"janders@yahoo.com\", [\"last\", \"first\"]]"
   ]
  },
  {
   "cell_type": "code",
   "execution_count": 342,
   "id": "61a02508-8c43-4e54-ac71-a1c9ef6378df",
   "metadata": {},
   "outputs": [
    {
     "data": {
      "text/html": [
       "<div>\n",
       "<style scoped>\n",
       "    .dataframe tbody tr th:only-of-type {\n",
       "        vertical-align: middle;\n",
       "    }\n",
       "\n",
       "    .dataframe tbody tr th {\n",
       "        vertical-align: top;\n",
       "    }\n",
       "\n",
       "    .dataframe thead th {\n",
       "        text-align: right;\n",
       "    }\n",
       "</style>\n",
       "<table border=\"1\" class=\"dataframe\">\n",
       "  <thead>\n",
       "    <tr style=\"text-align: right;\">\n",
       "      <th></th>\n",
       "      <th>first</th>\n",
       "      <th>last</th>\n",
       "    </tr>\n",
       "    <tr>\n",
       "      <th>email</th>\n",
       "      <th></th>\n",
       "      <th></th>\n",
       "    </tr>\n",
       "  </thead>\n",
       "  <tbody>\n",
       "    <tr>\n",
       "      <th>myk.rut@milo.lt</th>\n",
       "      <td>Mykas</td>\n",
       "      <td>RUtkauskas</td>\n",
       "    </tr>\n",
       "    <tr>\n",
       "      <th>janders@yahoo.com</th>\n",
       "      <td>Jane</td>\n",
       "      <td>Anders</td>\n",
       "    </tr>\n",
       "  </tbody>\n",
       "</table>\n",
       "</div>"
      ],
      "text/plain": [
       "                   first        last\n",
       "email                               \n",
       "myk.rut@milo.lt    Mykas  RUtkauskas\n",
       "janders@yahoo.com   Jane      Anders"
      ]
     },
     "execution_count": 342,
     "metadata": {},
     "output_type": "execute_result"
    }
   ],
   "source": [
    "df.iloc[0:2, 0:3]"
   ]
  },
  {
   "cell_type": "code",
   "execution_count": 343,
   "id": "e6cde6a7-5aa1-4394-a3f8-6cc2f0333ca0",
   "metadata": {},
   "outputs": [],
   "source": [
    "df.reset_index(inplace=True)"
   ]
  },
  {
   "cell_type": "code",
   "execution_count": 344,
   "id": "ceb2c992-2af6-43e4-b4c6-10e719469c69",
   "metadata": {},
   "outputs": [
    {
     "data": {
      "text/html": [
       "<div>\n",
       "<style scoped>\n",
       "    .dataframe tbody tr th:only-of-type {\n",
       "        vertical-align: middle;\n",
       "    }\n",
       "\n",
       "    .dataframe tbody tr th {\n",
       "        vertical-align: top;\n",
       "    }\n",
       "\n",
       "    .dataframe thead th {\n",
       "        text-align: right;\n",
       "    }\n",
       "</style>\n",
       "<table border=\"1\" class=\"dataframe\">\n",
       "  <thead>\n",
       "    <tr style=\"text-align: right;\">\n",
       "      <th></th>\n",
       "      <th>email</th>\n",
       "      <th>first</th>\n",
       "      <th>last</th>\n",
       "    </tr>\n",
       "  </thead>\n",
       "  <tbody>\n",
       "    <tr>\n",
       "      <th>0</th>\n",
       "      <td>myk.rut@milo.lt</td>\n",
       "      <td>Mykas</td>\n",
       "      <td>RUtkauskas</td>\n",
       "    </tr>\n",
       "    <tr>\n",
       "      <th>1</th>\n",
       "      <td>janders@yahoo.com</td>\n",
       "      <td>Jane</td>\n",
       "      <td>Anders</td>\n",
       "    </tr>\n",
       "    <tr>\n",
       "      <th>2</th>\n",
       "      <td>timjogn@gmail.com</td>\n",
       "      <td>Tim</td>\n",
       "      <td>Johnson</td>\n",
       "    </tr>\n",
       "  </tbody>\n",
       "</table>\n",
       "</div>"
      ],
      "text/plain": [
       "               email  first        last\n",
       "0    myk.rut@milo.lt  Mykas  RUtkauskas\n",
       "1  janders@yahoo.com   Jane      Anders\n",
       "2  timjogn@gmail.com    Tim     Johnson"
      ]
     },
     "execution_count": 344,
     "metadata": {},
     "output_type": "execute_result"
    }
   ],
   "source": [
    "df"
   ]
  },
  {
   "cell_type": "code",
   "execution_count": 345,
   "id": "06ce4289-e8b8-429f-85d1-78d787039a94",
   "metadata": {},
   "outputs": [
    {
     "data": {
      "text/plain": [
       "Index(['email', 'first', 'last'], dtype='object')"
      ]
     },
     "execution_count": 345,
     "metadata": {},
     "output_type": "execute_result"
    }
   ],
   "source": [
    "df.columns"
   ]
  },
  {
   "cell_type": "code",
   "execution_count": 346,
   "id": "66a5f995-1f7a-4324-83d5-80beeddd18bb",
   "metadata": {},
   "outputs": [],
   "source": [
    "df = df[[\"email\", \"last\", \"first\"]]"
   ]
  },
  {
   "cell_type": "code",
   "execution_count": 347,
   "id": "6977a005-7d61-4e70-b409-b26bef94f044",
   "metadata": {},
   "outputs": [
    {
     "data": {
      "text/html": [
       "<div>\n",
       "<style scoped>\n",
       "    .dataframe tbody tr th:only-of-type {\n",
       "        vertical-align: middle;\n",
       "    }\n",
       "\n",
       "    .dataframe tbody tr th {\n",
       "        vertical-align: top;\n",
       "    }\n",
       "\n",
       "    .dataframe thead th {\n",
       "        text-align: right;\n",
       "    }\n",
       "</style>\n",
       "<table border=\"1\" class=\"dataframe\">\n",
       "  <thead>\n",
       "    <tr style=\"text-align: right;\">\n",
       "      <th></th>\n",
       "      <th>email</th>\n",
       "      <th>last</th>\n",
       "      <th>first</th>\n",
       "    </tr>\n",
       "  </thead>\n",
       "  <tbody>\n",
       "    <tr>\n",
       "      <th>0</th>\n",
       "      <td>myk.rut@milo.lt</td>\n",
       "      <td>RUtkauskas</td>\n",
       "      <td>Mykas</td>\n",
       "    </tr>\n",
       "    <tr>\n",
       "      <th>1</th>\n",
       "      <td>janders@yahoo.com</td>\n",
       "      <td>Anders</td>\n",
       "      <td>Jane</td>\n",
       "    </tr>\n",
       "    <tr>\n",
       "      <th>2</th>\n",
       "      <td>timjogn@gmail.com</td>\n",
       "      <td>Johnson</td>\n",
       "      <td>Tim</td>\n",
       "    </tr>\n",
       "  </tbody>\n",
       "</table>\n",
       "</div>"
      ],
      "text/plain": [
       "               email        last  first\n",
       "0    myk.rut@milo.lt  RUtkauskas  Mykas\n",
       "1  janders@yahoo.com      Anders   Jane\n",
       "2  timjogn@gmail.com     Johnson    Tim"
      ]
     },
     "execution_count": 347,
     "metadata": {},
     "output_type": "execute_result"
    }
   ],
   "source": [
    "df"
   ]
  },
  {
   "cell_type": "code",
   "execution_count": 348,
   "id": "b89afdf8-a763-4958-89bc-afd0f39173a1",
   "metadata": {},
   "outputs": [],
   "source": [
    "filt= (df[\"last\"]== 'Anders') & (df[\"first\"]==\"Jane\")"
   ]
  },
  {
   "cell_type": "code",
   "execution_count": 349,
   "id": "f3d3c1f5-9fc5-4553-94dd-fc31f685ba88",
   "metadata": {},
   "outputs": [
    {
     "data": {
      "text/html": [
       "<div>\n",
       "<style scoped>\n",
       "    .dataframe tbody tr th:only-of-type {\n",
       "        vertical-align: middle;\n",
       "    }\n",
       "\n",
       "    .dataframe tbody tr th {\n",
       "        vertical-align: top;\n",
       "    }\n",
       "\n",
       "    .dataframe thead th {\n",
       "        text-align: right;\n",
       "    }\n",
       "</style>\n",
       "<table border=\"1\" class=\"dataframe\">\n",
       "  <thead>\n",
       "    <tr style=\"text-align: right;\">\n",
       "      <th></th>\n",
       "      <th>email</th>\n",
       "      <th>last</th>\n",
       "      <th>first</th>\n",
       "    </tr>\n",
       "  </thead>\n",
       "  <tbody>\n",
       "    <tr>\n",
       "      <th>1</th>\n",
       "      <td>janders@yahoo.com</td>\n",
       "      <td>Anders</td>\n",
       "      <td>Jane</td>\n",
       "    </tr>\n",
       "  </tbody>\n",
       "</table>\n",
       "</div>"
      ],
      "text/plain": [
       "               email    last first\n",
       "1  janders@yahoo.com  Anders  Jane"
      ]
     },
     "execution_count": 349,
     "metadata": {},
     "output_type": "execute_result"
    }
   ],
   "source": [
    "df[filt]"
   ]
  },
  {
   "cell_type": "code",
   "execution_count": 350,
   "id": "143a0083-2d0b-4da0-b40c-2a0c88036e0f",
   "metadata": {},
   "outputs": [
    {
     "data": {
      "text/plain": [
       "1    janders@yahoo.com\n",
       "Name: email, dtype: object"
      ]
     },
     "execution_count": 350,
     "metadata": {},
     "output_type": "execute_result"
    }
   ],
   "source": [
    "df.loc[filt, \"email\"]"
   ]
  },
  {
   "cell_type": "code",
   "execution_count": 351,
   "id": "bdf28d50-4fb5-4918-b48a-a1d838f28de7",
   "metadata": {},
   "outputs": [],
   "source": [
    "filt= (df[\"last\"]== 'Anders') | (df[\"first\"]==\"Mykas\")"
   ]
  },
  {
   "cell_type": "code",
   "execution_count": 352,
   "id": "42bd691a-31b2-4779-9c36-75fd19f84621",
   "metadata": {},
   "outputs": [
    {
     "data": {
      "text/html": [
       "<div>\n",
       "<style scoped>\n",
       "    .dataframe tbody tr th:only-of-type {\n",
       "        vertical-align: middle;\n",
       "    }\n",
       "\n",
       "    .dataframe tbody tr th {\n",
       "        vertical-align: top;\n",
       "    }\n",
       "\n",
       "    .dataframe thead th {\n",
       "        text-align: right;\n",
       "    }\n",
       "</style>\n",
       "<table border=\"1\" class=\"dataframe\">\n",
       "  <thead>\n",
       "    <tr style=\"text-align: right;\">\n",
       "      <th></th>\n",
       "      <th>email</th>\n",
       "      <th>last</th>\n",
       "      <th>first</th>\n",
       "    </tr>\n",
       "  </thead>\n",
       "  <tbody>\n",
       "    <tr>\n",
       "      <th>0</th>\n",
       "      <td>myk.rut@milo.lt</td>\n",
       "      <td>RUtkauskas</td>\n",
       "      <td>Mykas</td>\n",
       "    </tr>\n",
       "    <tr>\n",
       "      <th>1</th>\n",
       "      <td>janders@yahoo.com</td>\n",
       "      <td>Anders</td>\n",
       "      <td>Jane</td>\n",
       "    </tr>\n",
       "  </tbody>\n",
       "</table>\n",
       "</div>"
      ],
      "text/plain": [
       "               email        last  first\n",
       "0    myk.rut@milo.lt  RUtkauskas  Mykas\n",
       "1  janders@yahoo.com      Anders   Jane"
      ]
     },
     "execution_count": 352,
     "metadata": {},
     "output_type": "execute_result"
    }
   ],
   "source": [
    "df[filt]"
   ]
  },
  {
   "cell_type": "code",
   "execution_count": 353,
   "id": "215bc970-396c-4f41-8f9e-92e049976f4d",
   "metadata": {},
   "outputs": [
    {
     "data": {
      "text/plain": [
       "2    timjogn@gmail.com\n",
       "Name: email, dtype: object"
      ]
     },
     "execution_count": 353,
     "metadata": {},
     "output_type": "execute_result"
    }
   ],
   "source": [
    "df.loc[~filt, \"email\"]"
   ]
  },
  {
   "cell_type": "code",
   "execution_count": 354,
   "id": "239e2c15-7a14-4be0-b4b0-bdc348ae3e7f",
   "metadata": {},
   "outputs": [
    {
     "data": {
      "text/plain": [
       "Index(['email', 'last', 'first'], dtype='object')"
      ]
     },
     "execution_count": 354,
     "metadata": {},
     "output_type": "execute_result"
    }
   ],
   "source": [
    "df.columns"
   ]
  },
  {
   "cell_type": "code",
   "execution_count": 355,
   "id": "89988636-7a2b-46a3-b7be-a2b31ca2d766",
   "metadata": {},
   "outputs": [],
   "source": [
    "df.columns = [\"emailas\", \"last_name\", \"first name\"]"
   ]
  },
  {
   "cell_type": "code",
   "execution_count": 356,
   "id": "01b18220-678c-4a0b-86cc-0f5f0cb76eca",
   "metadata": {},
   "outputs": [
    {
     "data": {
      "text/html": [
       "<div>\n",
       "<style scoped>\n",
       "    .dataframe tbody tr th:only-of-type {\n",
       "        vertical-align: middle;\n",
       "    }\n",
       "\n",
       "    .dataframe tbody tr th {\n",
       "        vertical-align: top;\n",
       "    }\n",
       "\n",
       "    .dataframe thead th {\n",
       "        text-align: right;\n",
       "    }\n",
       "</style>\n",
       "<table border=\"1\" class=\"dataframe\">\n",
       "  <thead>\n",
       "    <tr style=\"text-align: right;\">\n",
       "      <th></th>\n",
       "      <th>emailas</th>\n",
       "      <th>last_name</th>\n",
       "      <th>first name</th>\n",
       "    </tr>\n",
       "  </thead>\n",
       "  <tbody>\n",
       "    <tr>\n",
       "      <th>0</th>\n",
       "      <td>myk.rut@milo.lt</td>\n",
       "      <td>RUtkauskas</td>\n",
       "      <td>Mykas</td>\n",
       "    </tr>\n",
       "    <tr>\n",
       "      <th>1</th>\n",
       "      <td>janders@yahoo.com</td>\n",
       "      <td>Anders</td>\n",
       "      <td>Jane</td>\n",
       "    </tr>\n",
       "    <tr>\n",
       "      <th>2</th>\n",
       "      <td>timjogn@gmail.com</td>\n",
       "      <td>Johnson</td>\n",
       "      <td>Tim</td>\n",
       "    </tr>\n",
       "  </tbody>\n",
       "</table>\n",
       "</div>"
      ],
      "text/plain": [
       "             emailas   last_name first name\n",
       "0    myk.rut@milo.lt  RUtkauskas      Mykas\n",
       "1  janders@yahoo.com      Anders       Jane\n",
       "2  timjogn@gmail.com     Johnson        Tim"
      ]
     },
     "execution_count": 356,
     "metadata": {},
     "output_type": "execute_result"
    }
   ],
   "source": [
    "df"
   ]
  },
  {
   "cell_type": "code",
   "execution_count": 357,
   "id": "87de7cc5-4c46-4f57-b783-0250be3b821d",
   "metadata": {},
   "outputs": [],
   "source": [
    "df.columns = [x.upper() for x in df.columns]"
   ]
  },
  {
   "cell_type": "code",
   "execution_count": 358,
   "id": "3e1492ba-9186-4ee1-83fb-0d2a907a929d",
   "metadata": {},
   "outputs": [
    {
     "data": {
      "text/html": [
       "<div>\n",
       "<style scoped>\n",
       "    .dataframe tbody tr th:only-of-type {\n",
       "        vertical-align: middle;\n",
       "    }\n",
       "\n",
       "    .dataframe tbody tr th {\n",
       "        vertical-align: top;\n",
       "    }\n",
       "\n",
       "    .dataframe thead th {\n",
       "        text-align: right;\n",
       "    }\n",
       "</style>\n",
       "<table border=\"1\" class=\"dataframe\">\n",
       "  <thead>\n",
       "    <tr style=\"text-align: right;\">\n",
       "      <th></th>\n",
       "      <th>EMAILAS</th>\n",
       "      <th>LAST_NAME</th>\n",
       "      <th>FIRST NAME</th>\n",
       "    </tr>\n",
       "  </thead>\n",
       "  <tbody>\n",
       "    <tr>\n",
       "      <th>0</th>\n",
       "      <td>myk.rut@milo.lt</td>\n",
       "      <td>RUtkauskas</td>\n",
       "      <td>Mykas</td>\n",
       "    </tr>\n",
       "    <tr>\n",
       "      <th>1</th>\n",
       "      <td>janders@yahoo.com</td>\n",
       "      <td>Anders</td>\n",
       "      <td>Jane</td>\n",
       "    </tr>\n",
       "    <tr>\n",
       "      <th>2</th>\n",
       "      <td>timjogn@gmail.com</td>\n",
       "      <td>Johnson</td>\n",
       "      <td>Tim</td>\n",
       "    </tr>\n",
       "  </tbody>\n",
       "</table>\n",
       "</div>"
      ],
      "text/plain": [
       "             EMAILAS   LAST_NAME FIRST NAME\n",
       "0    myk.rut@milo.lt  RUtkauskas      Mykas\n",
       "1  janders@yahoo.com      Anders       Jane\n",
       "2  timjogn@gmail.com     Johnson        Tim"
      ]
     },
     "execution_count": 358,
     "metadata": {},
     "output_type": "execute_result"
    }
   ],
   "source": [
    "df"
   ]
  },
  {
   "cell_type": "code",
   "execution_count": 359,
   "id": "7a9e414e-42ff-402e-8276-3cca997cc13b",
   "metadata": {},
   "outputs": [],
   "source": [
    "df.columns = df.columns.str.replace(\"_\", \" \")"
   ]
  },
  {
   "cell_type": "code",
   "execution_count": 360,
   "id": "c7bfde86-e104-4350-b134-003d2d5c7e95",
   "metadata": {},
   "outputs": [
    {
     "data": {
      "text/html": [
       "<div>\n",
       "<style scoped>\n",
       "    .dataframe tbody tr th:only-of-type {\n",
       "        vertical-align: middle;\n",
       "    }\n",
       "\n",
       "    .dataframe tbody tr th {\n",
       "        vertical-align: top;\n",
       "    }\n",
       "\n",
       "    .dataframe thead th {\n",
       "        text-align: right;\n",
       "    }\n",
       "</style>\n",
       "<table border=\"1\" class=\"dataframe\">\n",
       "  <thead>\n",
       "    <tr style=\"text-align: right;\">\n",
       "      <th></th>\n",
       "      <th>EMAILAS</th>\n",
       "      <th>LAST NAME</th>\n",
       "      <th>FIRST NAME</th>\n",
       "    </tr>\n",
       "  </thead>\n",
       "  <tbody>\n",
       "    <tr>\n",
       "      <th>0</th>\n",
       "      <td>myk.rut@milo.lt</td>\n",
       "      <td>RUtkauskas</td>\n",
       "      <td>Mykas</td>\n",
       "    </tr>\n",
       "    <tr>\n",
       "      <th>1</th>\n",
       "      <td>janders@yahoo.com</td>\n",
       "      <td>Anders</td>\n",
       "      <td>Jane</td>\n",
       "    </tr>\n",
       "    <tr>\n",
       "      <th>2</th>\n",
       "      <td>timjogn@gmail.com</td>\n",
       "      <td>Johnson</td>\n",
       "      <td>Tim</td>\n",
       "    </tr>\n",
       "  </tbody>\n",
       "</table>\n",
       "</div>"
      ],
      "text/plain": [
       "             EMAILAS   LAST NAME FIRST NAME\n",
       "0    myk.rut@milo.lt  RUtkauskas      Mykas\n",
       "1  janders@yahoo.com      Anders       Jane\n",
       "2  timjogn@gmail.com     Johnson        Tim"
      ]
     },
     "execution_count": 360,
     "metadata": {},
     "output_type": "execute_result"
    }
   ],
   "source": [
    "df"
   ]
  },
  {
   "cell_type": "code",
   "execution_count": 361,
   "id": "25dc88a4-4048-4b87-8bc4-f18aa4c08619",
   "metadata": {},
   "outputs": [],
   "source": [
    "df.columns = [x.lower() for x in df.columns]"
   ]
  },
  {
   "cell_type": "code",
   "execution_count": null,
   "id": "eec83508-d1be-4ad3-8750-7f479c6751e8",
   "metadata": {},
   "outputs": [],
   "source": []
  },
  {
   "cell_type": "code",
   "execution_count": 362,
   "id": "61d8e923-ede7-4828-b944-19c8eb1f0fdb",
   "metadata": {},
   "outputs": [
    {
     "data": {
      "text/html": [
       "<div>\n",
       "<style scoped>\n",
       "    .dataframe tbody tr th:only-of-type {\n",
       "        vertical-align: middle;\n",
       "    }\n",
       "\n",
       "    .dataframe tbody tr th {\n",
       "        vertical-align: top;\n",
       "    }\n",
       "\n",
       "    .dataframe thead th {\n",
       "        text-align: right;\n",
       "    }\n",
       "</style>\n",
       "<table border=\"1\" class=\"dataframe\">\n",
       "  <thead>\n",
       "    <tr style=\"text-align: right;\">\n",
       "      <th></th>\n",
       "      <th>emailas</th>\n",
       "      <th>last name</th>\n",
       "      <th>first name</th>\n",
       "    </tr>\n",
       "  </thead>\n",
       "  <tbody>\n",
       "    <tr>\n",
       "      <th>0</th>\n",
       "      <td>myk.rut@milo.lt</td>\n",
       "      <td>RUtkauskas</td>\n",
       "      <td>Mykas</td>\n",
       "    </tr>\n",
       "    <tr>\n",
       "      <th>1</th>\n",
       "      <td>janders@yahoo.com</td>\n",
       "      <td>Anders</td>\n",
       "      <td>Jane</td>\n",
       "    </tr>\n",
       "    <tr>\n",
       "      <th>2</th>\n",
       "      <td>timjogn@gmail.com</td>\n",
       "      <td>Johnson</td>\n",
       "      <td>Tim</td>\n",
       "    </tr>\n",
       "  </tbody>\n",
       "</table>\n",
       "</div>"
      ],
      "text/plain": [
       "             emailas   last name first name\n",
       "0    myk.rut@milo.lt  RUtkauskas      Mykas\n",
       "1  janders@yahoo.com      Anders       Jane\n",
       "2  timjogn@gmail.com     Johnson        Tim"
      ]
     },
     "execution_count": 362,
     "metadata": {},
     "output_type": "execute_result"
    }
   ],
   "source": [
    "df"
   ]
  },
  {
   "cell_type": "code",
   "execution_count": 363,
   "id": "f498cc85-4450-494e-bf97-b291f931fc8c",
   "metadata": {},
   "outputs": [],
   "source": [
    "df.rename(columns = {\"emailas\":\"emailasas\", \"first name\" : \"vardas\" }, inplace = True)"
   ]
  },
  {
   "cell_type": "code",
   "execution_count": null,
   "id": "2e6263e1-f161-4eec-95e4-e90d7c762bd9",
   "metadata": {},
   "outputs": [],
   "source": []
  },
  {
   "cell_type": "code",
   "execution_count": 364,
   "id": "288aed47-4d62-4561-bacd-d77b7cb97ba0",
   "metadata": {},
   "outputs": [
    {
     "data": {
      "text/html": [
       "<div>\n",
       "<style scoped>\n",
       "    .dataframe tbody tr th:only-of-type {\n",
       "        vertical-align: middle;\n",
       "    }\n",
       "\n",
       "    .dataframe tbody tr th {\n",
       "        vertical-align: top;\n",
       "    }\n",
       "\n",
       "    .dataframe thead th {\n",
       "        text-align: right;\n",
       "    }\n",
       "</style>\n",
       "<table border=\"1\" class=\"dataframe\">\n",
       "  <thead>\n",
       "    <tr style=\"text-align: right;\">\n",
       "      <th></th>\n",
       "      <th>emailasas</th>\n",
       "      <th>last name</th>\n",
       "      <th>vardas</th>\n",
       "    </tr>\n",
       "  </thead>\n",
       "  <tbody>\n",
       "    <tr>\n",
       "      <th>0</th>\n",
       "      <td>myk.rut@milo.lt</td>\n",
       "      <td>RUtkauskas</td>\n",
       "      <td>Mykas</td>\n",
       "    </tr>\n",
       "    <tr>\n",
       "      <th>1</th>\n",
       "      <td>janders@yahoo.com</td>\n",
       "      <td>Anders</td>\n",
       "      <td>Jane</td>\n",
       "    </tr>\n",
       "    <tr>\n",
       "      <th>2</th>\n",
       "      <td>timjogn@gmail.com</td>\n",
       "      <td>Johnson</td>\n",
       "      <td>Tim</td>\n",
       "    </tr>\n",
       "  </tbody>\n",
       "</table>\n",
       "</div>"
      ],
      "text/plain": [
       "           emailasas   last name vardas\n",
       "0    myk.rut@milo.lt  RUtkauskas  Mykas\n",
       "1  janders@yahoo.com      Anders   Jane\n",
       "2  timjogn@gmail.com     Johnson    Tim"
      ]
     },
     "execution_count": 364,
     "metadata": {},
     "output_type": "execute_result"
    }
   ],
   "source": [
    "df"
   ]
  },
  {
   "cell_type": "code",
   "execution_count": 365,
   "id": "1103b927-8abf-4ca7-8243-9900829f76ef",
   "metadata": {},
   "outputs": [
    {
     "data": {
      "text/plain": [
       "emailasas    janders@yahoo.com\n",
       "last name               Anders\n",
       "vardas                    Jane\n",
       "Name: 1, dtype: object"
      ]
     },
     "execution_count": 365,
     "metadata": {},
     "output_type": "execute_result"
    }
   ],
   "source": [
    "df.loc[1]"
   ]
  },
  {
   "cell_type": "code",
   "execution_count": 366,
   "id": "731e237e-4b73-40f2-9a36-ba25d8c317fa",
   "metadata": {},
   "outputs": [],
   "source": [
    "df.loc[1] = [\"janderis@yahooo.com\", \"Andersas\", \"Janesas\"]"
   ]
  },
  {
   "cell_type": "code",
   "execution_count": 367,
   "id": "a85ed935-6100-4cff-97d5-eaf427ab6748",
   "metadata": {},
   "outputs": [
    {
     "data": {
      "text/plain": [
       "emailasas    janderis@yahooo.com\n",
       "last name               Andersas\n",
       "vardas                   Janesas\n",
       "Name: 1, dtype: object"
      ]
     },
     "execution_count": 367,
     "metadata": {},
     "output_type": "execute_result"
    }
   ],
   "source": [
    "df.loc[1]"
   ]
  },
  {
   "cell_type": "code",
   "execution_count": 368,
   "id": "378ee9e7-a5bd-4478-88fd-ce9ae9ba8a57",
   "metadata": {},
   "outputs": [
    {
     "data": {
      "text/html": [
       "<div>\n",
       "<style scoped>\n",
       "    .dataframe tbody tr th:only-of-type {\n",
       "        vertical-align: middle;\n",
       "    }\n",
       "\n",
       "    .dataframe tbody tr th {\n",
       "        vertical-align: top;\n",
       "    }\n",
       "\n",
       "    .dataframe thead th {\n",
       "        text-align: right;\n",
       "    }\n",
       "</style>\n",
       "<table border=\"1\" class=\"dataframe\">\n",
       "  <thead>\n",
       "    <tr style=\"text-align: right;\">\n",
       "      <th></th>\n",
       "      <th>emailasas</th>\n",
       "      <th>last name</th>\n",
       "      <th>vardas</th>\n",
       "    </tr>\n",
       "  </thead>\n",
       "  <tbody>\n",
       "    <tr>\n",
       "      <th>0</th>\n",
       "      <td>myk.rut@milo.lt</td>\n",
       "      <td>RUtkauskas</td>\n",
       "      <td>Mykas</td>\n",
       "    </tr>\n",
       "    <tr>\n",
       "      <th>1</th>\n",
       "      <td>janderis@yahooo.com</td>\n",
       "      <td>Andersas</td>\n",
       "      <td>Janesas</td>\n",
       "    </tr>\n",
       "    <tr>\n",
       "      <th>2</th>\n",
       "      <td>timjogn@gmail.com</td>\n",
       "      <td>Johnson</td>\n",
       "      <td>Tim</td>\n",
       "    </tr>\n",
       "  </tbody>\n",
       "</table>\n",
       "</div>"
      ],
      "text/plain": [
       "             emailasas   last name   vardas\n",
       "0      myk.rut@milo.lt  RUtkauskas    Mykas\n",
       "1  janderis@yahooo.com    Andersas  Janesas\n",
       "2    timjogn@gmail.com     Johnson      Tim"
      ]
     },
     "execution_count": 368,
     "metadata": {},
     "output_type": "execute_result"
    }
   ],
   "source": [
    "df"
   ]
  },
  {
   "cell_type": "code",
   "execution_count": 369,
   "id": "2594e4be-0483-4001-8164-949d3f31b891",
   "metadata": {},
   "outputs": [],
   "source": [
    "df.loc[2, [\"last name\", \"vardas\"]] = [\"Vasil\", \"Joe\"]"
   ]
  },
  {
   "cell_type": "code",
   "execution_count": 370,
   "id": "dd19fac3-af47-4509-aa33-be2d92899f0c",
   "metadata": {},
   "outputs": [
    {
     "data": {
      "text/html": [
       "<div>\n",
       "<style scoped>\n",
       "    .dataframe tbody tr th:only-of-type {\n",
       "        vertical-align: middle;\n",
       "    }\n",
       "\n",
       "    .dataframe tbody tr th {\n",
       "        vertical-align: top;\n",
       "    }\n",
       "\n",
       "    .dataframe thead th {\n",
       "        text-align: right;\n",
       "    }\n",
       "</style>\n",
       "<table border=\"1\" class=\"dataframe\">\n",
       "  <thead>\n",
       "    <tr style=\"text-align: right;\">\n",
       "      <th></th>\n",
       "      <th>emailasas</th>\n",
       "      <th>last name</th>\n",
       "      <th>vardas</th>\n",
       "    </tr>\n",
       "  </thead>\n",
       "  <tbody>\n",
       "    <tr>\n",
       "      <th>0</th>\n",
       "      <td>myk.rut@milo.lt</td>\n",
       "      <td>RUtkauskas</td>\n",
       "      <td>Mykas</td>\n",
       "    </tr>\n",
       "    <tr>\n",
       "      <th>1</th>\n",
       "      <td>janderis@yahooo.com</td>\n",
       "      <td>Andersas</td>\n",
       "      <td>Janesas</td>\n",
       "    </tr>\n",
       "    <tr>\n",
       "      <th>2</th>\n",
       "      <td>timjogn@gmail.com</td>\n",
       "      <td>Vasil</td>\n",
       "      <td>Joe</td>\n",
       "    </tr>\n",
       "  </tbody>\n",
       "</table>\n",
       "</div>"
      ],
      "text/plain": [
       "             emailasas   last name   vardas\n",
       "0      myk.rut@milo.lt  RUtkauskas    Mykas\n",
       "1  janderis@yahooo.com    Andersas  Janesas\n",
       "2    timjogn@gmail.com       Vasil      Joe"
      ]
     },
     "execution_count": 370,
     "metadata": {},
     "output_type": "execute_result"
    }
   ],
   "source": [
    "df"
   ]
  },
  {
   "cell_type": "code",
   "execution_count": null,
   "id": "80d7390c-1c5d-4bf7-ab9b-f796413c5af4",
   "metadata": {},
   "outputs": [],
   "source": []
  },
  {
   "cell_type": "code",
   "execution_count": null,
   "id": "7afe60c1-990a-45df-83f3-47127edffa3c",
   "metadata": {},
   "outputs": [],
   "source": []
  },
  {
   "cell_type": "code",
   "execution_count": 414,
   "id": "2b1d53c4-43ba-4d84-9bb8-88d9f8e67006",
   "metadata": {},
   "outputs": [],
   "source": [
    "filt =(df[\"emailasas\"] == \"myk.rut@milo.lt\")\n",
    "df.loc[filt, \"vardas\"] = \"Kazys\""
   ]
  },
  {
   "cell_type": "code",
   "execution_count": 415,
   "id": "f6b8a5b6-3c8e-473b-8217-ce835da27567",
   "metadata": {},
   "outputs": [
    {
     "data": {
      "text/html": [
       "<div>\n",
       "<style scoped>\n",
       "    .dataframe tbody tr th:only-of-type {\n",
       "        vertical-align: middle;\n",
       "    }\n",
       "\n",
       "    .dataframe tbody tr th {\n",
       "        vertical-align: top;\n",
       "    }\n",
       "\n",
       "    .dataframe thead th {\n",
       "        text-align: right;\n",
       "    }\n",
       "</style>\n",
       "<table border=\"1\" class=\"dataframe\">\n",
       "  <thead>\n",
       "    <tr style=\"text-align: right;\">\n",
       "      <th></th>\n",
       "      <th>emailasas</th>\n",
       "      <th>last name</th>\n",
       "      <th>vardas</th>\n",
       "      <th>pinigai</th>\n",
       "    </tr>\n",
       "  </thead>\n",
       "  <tbody>\n",
       "    <tr>\n",
       "      <th>0</th>\n",
       "      <td>myk.rut@milo.lt</td>\n",
       "      <td>RUtkauskas</td>\n",
       "      <td>Kazys</td>\n",
       "      <td>200.0</td>\n",
       "    </tr>\n",
       "    <tr>\n",
       "      <th>1</th>\n",
       "      <td>janderis@yahooo.com</td>\n",
       "      <td>Andersas</td>\n",
       "      <td>JANESAS</td>\n",
       "      <td>NaN</td>\n",
       "    </tr>\n",
       "    <tr>\n",
       "      <th>2</th>\n",
       "      <td>timjogn@gmail.com</td>\n",
       "      <td>Vasil</td>\n",
       "      <td>JOE</td>\n",
       "      <td>NaN</td>\n",
       "    </tr>\n",
       "  </tbody>\n",
       "</table>\n",
       "</div>"
      ],
      "text/plain": [
       "             emailasas   last name   vardas  pinigai\n",
       "0      myk.rut@milo.lt  RUtkauskas    Kazys    200.0\n",
       "1  janderis@yahooo.com    Andersas  JANESAS      NaN\n",
       "2    timjogn@gmail.com       Vasil      JOE      NaN"
      ]
     },
     "execution_count": 415,
     "metadata": {},
     "output_type": "execute_result"
    }
   ],
   "source": [
    "\n",
    "df"
   ]
  },
  {
   "cell_type": "code",
   "execution_count": 413,
   "id": "a3b0d07b-bdff-4c51-84f0-b4a75170e41b",
   "metadata": {},
   "outputs": [
    {
     "data": {
      "text/html": [
       "<div>\n",
       "<style scoped>\n",
       "    .dataframe tbody tr th:only-of-type {\n",
       "        vertical-align: middle;\n",
       "    }\n",
       "\n",
       "    .dataframe tbody tr th {\n",
       "        vertical-align: top;\n",
       "    }\n",
       "\n",
       "    .dataframe thead th {\n",
       "        text-align: right;\n",
       "    }\n",
       "</style>\n",
       "<table border=\"1\" class=\"dataframe\">\n",
       "  <thead>\n",
       "    <tr style=\"text-align: right;\">\n",
       "      <th></th>\n",
       "      <th>emailasas</th>\n",
       "      <th>last name</th>\n",
       "      <th>vardas</th>\n",
       "      <th>pinigai</th>\n",
       "    </tr>\n",
       "  </thead>\n",
       "  <tbody>\n",
       "    <tr>\n",
       "      <th>0</th>\n",
       "      <td>myk.rut@milo.lt</td>\n",
       "      <td>RUtkauskas</td>\n",
       "      <td>KAZYS</td>\n",
       "      <td>200.0</td>\n",
       "    </tr>\n",
       "  </tbody>\n",
       "</table>\n",
       "</div>"
      ],
      "text/plain": [
       "         emailasas   last name vardas  pinigai\n",
       "0  myk.rut@milo.lt  RUtkauskas  KAZYS    200.0"
      ]
     },
     "execution_count": 413,
     "metadata": {},
     "output_type": "execute_result"
    }
   ],
   "source": [
    "filt =(df[\"emailasas\"] == \"myk.rut@milo.lt\")\n",
    "df[filt] "
   ]
  },
  {
   "cell_type": "code",
   "execution_count": 401,
   "id": "dec394a7-117f-453d-96ea-f9de227e2406",
   "metadata": {},
   "outputs": [],
   "source": [
    "df[\"vardas\"] = df[\"vardas\"].str.upper()"
   ]
  },
  {
   "cell_type": "code",
   "execution_count": 402,
   "id": "3b403304-b4e6-4398-aaa4-6732ea13d3e1",
   "metadata": {},
   "outputs": [
    {
     "data": {
      "text/html": [
       "<div>\n",
       "<style scoped>\n",
       "    .dataframe tbody tr th:only-of-type {\n",
       "        vertical-align: middle;\n",
       "    }\n",
       "\n",
       "    .dataframe tbody tr th {\n",
       "        vertical-align: top;\n",
       "    }\n",
       "\n",
       "    .dataframe thead th {\n",
       "        text-align: right;\n",
       "    }\n",
       "</style>\n",
       "<table border=\"1\" class=\"dataframe\">\n",
       "  <thead>\n",
       "    <tr style=\"text-align: right;\">\n",
       "      <th></th>\n",
       "      <th>emailasas</th>\n",
       "      <th>last name</th>\n",
       "      <th>vardas</th>\n",
       "      <th>pinigai</th>\n",
       "    </tr>\n",
       "  </thead>\n",
       "  <tbody>\n",
       "    <tr>\n",
       "      <th>0</th>\n",
       "      <td>myk.rut@milo.lt</td>\n",
       "      <td>RUtkauskas</td>\n",
       "      <td>KAZYS</td>\n",
       "      <td>200.0</td>\n",
       "    </tr>\n",
       "    <tr>\n",
       "      <th>1</th>\n",
       "      <td>janderis@yahooo.com</td>\n",
       "      <td>Andersas</td>\n",
       "      <td>JANESAS</td>\n",
       "      <td>NaN</td>\n",
       "    </tr>\n",
       "    <tr>\n",
       "      <th>2</th>\n",
       "      <td>timjogn@gmail.com</td>\n",
       "      <td>Vasil</td>\n",
       "      <td>JOE</td>\n",
       "      <td>NaN</td>\n",
       "    </tr>\n",
       "  </tbody>\n",
       "</table>\n",
       "</div>"
      ],
      "text/plain": [
       "             emailasas   last name   vardas  pinigai\n",
       "0      myk.rut@milo.lt  RUtkauskas    KAZYS    200.0\n",
       "1  janderis@yahooo.com    Andersas  JANESAS      NaN\n",
       "2    timjogn@gmail.com       Vasil      JOE      NaN"
      ]
     },
     "execution_count": 402,
     "metadata": {},
     "output_type": "execute_result"
    }
   ],
   "source": [
    "df"
   ]
  },
  {
   "cell_type": "code",
   "execution_count": 403,
   "id": "41cfbbd8-2abb-40e1-827a-30621ba35df8",
   "metadata": {},
   "outputs": [
    {
     "data": {
      "text/plain": [
       "0    5\n",
       "1    7\n",
       "2    3\n",
       "Name: vardas, dtype: int64"
      ]
     },
     "execution_count": 403,
     "metadata": {},
     "output_type": "execute_result"
    }
   ],
   "source": [
    "df[\"vardas\"].apply(len)"
   ]
  },
  {
   "cell_type": "code",
   "execution_count": 404,
   "id": "f8435556-1daa-4f90-a3a7-96a4113708e9",
   "metadata": {},
   "outputs": [],
   "source": [
    "def update_email(emailasas):\n",
    "    return emailasas.upper()"
   ]
  },
  {
   "cell_type": "code",
   "execution_count": 405,
   "id": "32ea5d3b-17bc-4d7a-9326-9b4a6763d643",
   "metadata": {},
   "outputs": [
    {
     "data": {
      "text/plain": [
       "0        MYK.RUT@MILO.LT\n",
       "1    JANDERIS@YAHOOO.COM\n",
       "2      TIMJOGN@GMAIL.COM\n",
       "Name: emailasas, dtype: object"
      ]
     },
     "execution_count": 405,
     "metadata": {},
     "output_type": "execute_result"
    }
   ],
   "source": [
    "df[\"emailasas\"].apply(update_email)"
   ]
  },
  {
   "cell_type": "code",
   "execution_count": 406,
   "id": "2234bb5b-aa28-43a0-98dc-fe88c348f5fe",
   "metadata": {},
   "outputs": [],
   "source": [
    "df[\"emailasas\"] = df[\"emailasas\"].apply(lambda x: x.lower())"
   ]
  },
  {
   "cell_type": "code",
   "execution_count": 407,
   "id": "1ea84b26-659f-4462-97f5-4a31d4da326d",
   "metadata": {},
   "outputs": [
    {
     "data": {
      "text/html": [
       "<div>\n",
       "<style scoped>\n",
       "    .dataframe tbody tr th:only-of-type {\n",
       "        vertical-align: middle;\n",
       "    }\n",
       "\n",
       "    .dataframe tbody tr th {\n",
       "        vertical-align: top;\n",
       "    }\n",
       "\n",
       "    .dataframe thead th {\n",
       "        text-align: right;\n",
       "    }\n",
       "</style>\n",
       "<table border=\"1\" class=\"dataframe\">\n",
       "  <thead>\n",
       "    <tr style=\"text-align: right;\">\n",
       "      <th></th>\n",
       "      <th>emailasas</th>\n",
       "      <th>last name</th>\n",
       "      <th>vardas</th>\n",
       "      <th>pinigai</th>\n",
       "    </tr>\n",
       "  </thead>\n",
       "  <tbody>\n",
       "    <tr>\n",
       "      <th>0</th>\n",
       "      <td>myk.rut@milo.lt</td>\n",
       "      <td>RUtkauskas</td>\n",
       "      <td>KAZYS</td>\n",
       "      <td>200.0</td>\n",
       "    </tr>\n",
       "    <tr>\n",
       "      <th>1</th>\n",
       "      <td>janderis@yahooo.com</td>\n",
       "      <td>Andersas</td>\n",
       "      <td>JANESAS</td>\n",
       "      <td>NaN</td>\n",
       "    </tr>\n",
       "    <tr>\n",
       "      <th>2</th>\n",
       "      <td>timjogn@gmail.com</td>\n",
       "      <td>Vasil</td>\n",
       "      <td>JOE</td>\n",
       "      <td>NaN</td>\n",
       "    </tr>\n",
       "  </tbody>\n",
       "</table>\n",
       "</div>"
      ],
      "text/plain": [
       "             emailasas   last name   vardas  pinigai\n",
       "0      myk.rut@milo.lt  RUtkauskas    KAZYS    200.0\n",
       "1  janderis@yahooo.com    Andersas  JANESAS      NaN\n",
       "2    timjogn@gmail.com       Vasil      JOE      NaN"
      ]
     },
     "execution_count": 407,
     "metadata": {},
     "output_type": "execute_result"
    }
   ],
   "source": [
    "df"
   ]
  },
  {
   "cell_type": "code",
   "execution_count": 408,
   "id": "46d90fe4-37b9-4f63-b0b2-b9ae9f020506",
   "metadata": {},
   "outputs": [
    {
     "data": {
      "text/plain": [
       "0    15\n",
       "1    19\n",
       "2    17\n",
       "Name: emailasas, dtype: int64"
      ]
     },
     "execution_count": 408,
     "metadata": {},
     "output_type": "execute_result"
    }
   ],
   "source": [
    "df[\"emailasas\"].apply(len)"
   ]
  },
  {
   "cell_type": "code",
   "execution_count": 409,
   "id": "31453f23-6353-47aa-95f7-f03f9413381f",
   "metadata": {},
   "outputs": [
    {
     "data": {
      "text/plain": [
       "0    4\n",
       "1    4\n",
       "2    4\n",
       "dtype: int64"
      ]
     },
     "execution_count": 409,
     "metadata": {},
     "output_type": "execute_result"
    }
   ],
   "source": [
    "df.apply(len, axis= \"columns\")"
   ]
  },
  {
   "cell_type": "code",
   "execution_count": 410,
   "id": "889c4f8d-c48d-4cbc-b2ec-0f02a74ad164",
   "metadata": {},
   "outputs": [
    {
     "data": {
      "text/plain": [
       "3"
      ]
     },
     "execution_count": 410,
     "metadata": {},
     "output_type": "execute_result"
    }
   ],
   "source": [
    "len(df[\"emailasas\"])"
   ]
  },
  {
   "cell_type": "code",
   "execution_count": 411,
   "id": "d9af58c0-979d-4142-ac59-a0494df5a636",
   "metadata": {},
   "outputs": [
    {
     "data": {
      "text/plain": [
       "emailasas    janderis@yahooo.com\n",
       "last name               Andersas\n",
       "vardas                   JANESAS\n",
       "pinigai                    200.0\n",
       "dtype: object"
      ]
     },
     "execution_count": 411,
     "metadata": {},
     "output_type": "execute_result"
    }
   ],
   "source": [
    "df.apply(lambda x: x.min())"
   ]
  },
  {
   "cell_type": "code",
   "execution_count": null,
   "id": "0238d996-3a25-464a-b858-8c43bd0e3a6d",
   "metadata": {},
   "outputs": [],
   "source": []
  },
  {
   "cell_type": "code",
   "execution_count": null,
   "id": "91424693-1af8-44f1-9719-9c008cf3f2c3",
   "metadata": {},
   "outputs": [],
   "source": []
  },
  {
   "cell_type": "code",
   "execution_count": null,
   "id": "e793d751-1271-41a2-9748-ebaa21ad21a9",
   "metadata": {},
   "outputs": [],
   "source": []
  },
  {
   "cell_type": "code",
   "execution_count": 416,
   "id": "8cb3b99d-9486-4f70-a744-73bd1338c656",
   "metadata": {},
   "outputs": [
    {
     "data": {
      "text/plain": [
       "0    RUtkauskas\n",
       "1      Andersas\n",
       "2          vaso\n",
       "Name: last name, dtype: object"
      ]
     },
     "execution_count": 416,
     "metadata": {},
     "output_type": "execute_result"
    }
   ],
   "source": [
    "df[\"last name\"].replace({\"Vasil\": \"vaso\"})"
   ]
  },
  {
   "cell_type": "code",
   "execution_count": 417,
   "id": "953fc910-6bff-4e43-9b2b-46e3a80c7a21",
   "metadata": {},
   "outputs": [
    {
     "data": {
      "text/plain": [
       "0       NaN\n",
       "1    Anders\n",
       "2       NaN\n",
       "Name: last name, dtype: object"
      ]
     },
     "execution_count": 417,
     "metadata": {},
     "output_type": "execute_result"
    }
   ],
   "source": [
    "df[\"last name\"].map({\"Andersas\": \"Anders\"})"
   ]
  },
  {
   "cell_type": "code",
   "execution_count": 418,
   "id": "bd620f80-853b-41fd-89ac-1322a1ac9a63",
   "metadata": {},
   "outputs": [
    {
     "data": {
      "text/plain": [
       "0        myk.rut@milo.lt vardas\n",
       "1    janderis@yahooo.com vardas\n",
       "2      timjogn@gmail.com vardas\n",
       "Name: emailasas, dtype: object"
      ]
     },
     "execution_count": 418,
     "metadata": {},
     "output_type": "execute_result"
    }
   ],
   "source": [
    "df[\"emailasas\"] + \" \" + [\"vardas\"]"
   ]
  },
  {
   "cell_type": "code",
   "execution_count": 419,
   "id": "5861db3c-63ca-41e1-9e0a-783ebfb2f90c",
   "metadata": {},
   "outputs": [],
   "source": [
    "df[\"full name\"]= df[\"last name\"] + \" \" + df[\"emailasas\"]"
   ]
  },
  {
   "cell_type": "code",
   "execution_count": 420,
   "id": "0bf53604-9a20-4995-9f4d-f0de10971424",
   "metadata": {},
   "outputs": [
    {
     "data": {
      "text/html": [
       "<div>\n",
       "<style scoped>\n",
       "    .dataframe tbody tr th:only-of-type {\n",
       "        vertical-align: middle;\n",
       "    }\n",
       "\n",
       "    .dataframe tbody tr th {\n",
       "        vertical-align: top;\n",
       "    }\n",
       "\n",
       "    .dataframe thead th {\n",
       "        text-align: right;\n",
       "    }\n",
       "</style>\n",
       "<table border=\"1\" class=\"dataframe\">\n",
       "  <thead>\n",
       "    <tr style=\"text-align: right;\">\n",
       "      <th></th>\n",
       "      <th>emailasas</th>\n",
       "      <th>last name</th>\n",
       "      <th>vardas</th>\n",
       "      <th>pinigai</th>\n",
       "      <th>full name</th>\n",
       "    </tr>\n",
       "  </thead>\n",
       "  <tbody>\n",
       "    <tr>\n",
       "      <th>0</th>\n",
       "      <td>myk.rut@milo.lt</td>\n",
       "      <td>RUtkauskas</td>\n",
       "      <td>Kazys</td>\n",
       "      <td>200.0</td>\n",
       "      <td>RUtkauskas myk.rut@milo.lt</td>\n",
       "    </tr>\n",
       "    <tr>\n",
       "      <th>1</th>\n",
       "      <td>janderis@yahooo.com</td>\n",
       "      <td>Andersas</td>\n",
       "      <td>JANESAS</td>\n",
       "      <td>NaN</td>\n",
       "      <td>Andersas janderis@yahooo.com</td>\n",
       "    </tr>\n",
       "    <tr>\n",
       "      <th>2</th>\n",
       "      <td>timjogn@gmail.com</td>\n",
       "      <td>Vasil</td>\n",
       "      <td>JOE</td>\n",
       "      <td>NaN</td>\n",
       "      <td>Vasil timjogn@gmail.com</td>\n",
       "    </tr>\n",
       "  </tbody>\n",
       "</table>\n",
       "</div>"
      ],
      "text/plain": [
       "             emailasas   last name   vardas  pinigai  \\\n",
       "0      myk.rut@milo.lt  RUtkauskas    Kazys    200.0   \n",
       "1  janderis@yahooo.com    Andersas  JANESAS      NaN   \n",
       "2    timjogn@gmail.com       Vasil      JOE      NaN   \n",
       "\n",
       "                      full name  \n",
       "0    RUtkauskas myk.rut@milo.lt  \n",
       "1  Andersas janderis@yahooo.com  \n",
       "2       Vasil timjogn@gmail.com  "
      ]
     },
     "execution_count": 420,
     "metadata": {},
     "output_type": "execute_result"
    }
   ],
   "source": [
    "df"
   ]
  },
  {
   "cell_type": "code",
   "execution_count": 422,
   "id": "83acfba0-9665-42df-aa20-3dbf9847b33a",
   "metadata": {},
   "outputs": [],
   "source": [
    "df.drop(columns=[\"pinigai\"], inplace=True)"
   ]
  },
  {
   "cell_type": "code",
   "execution_count": 423,
   "id": "ae240eec-3f39-4617-b1df-f22868089f45",
   "metadata": {},
   "outputs": [
    {
     "data": {
      "text/html": [
       "<div>\n",
       "<style scoped>\n",
       "    .dataframe tbody tr th:only-of-type {\n",
       "        vertical-align: middle;\n",
       "    }\n",
       "\n",
       "    .dataframe tbody tr th {\n",
       "        vertical-align: top;\n",
       "    }\n",
       "\n",
       "    .dataframe thead th {\n",
       "        text-align: right;\n",
       "    }\n",
       "</style>\n",
       "<table border=\"1\" class=\"dataframe\">\n",
       "  <thead>\n",
       "    <tr style=\"text-align: right;\">\n",
       "      <th></th>\n",
       "      <th>emailasas</th>\n",
       "      <th>last name</th>\n",
       "      <th>vardas</th>\n",
       "      <th>full name</th>\n",
       "    </tr>\n",
       "  </thead>\n",
       "  <tbody>\n",
       "    <tr>\n",
       "      <th>0</th>\n",
       "      <td>myk.rut@milo.lt</td>\n",
       "      <td>RUtkauskas</td>\n",
       "      <td>Kazys</td>\n",
       "      <td>RUtkauskas myk.rut@milo.lt</td>\n",
       "    </tr>\n",
       "    <tr>\n",
       "      <th>1</th>\n",
       "      <td>janderis@yahooo.com</td>\n",
       "      <td>Andersas</td>\n",
       "      <td>JANESAS</td>\n",
       "      <td>Andersas janderis@yahooo.com</td>\n",
       "    </tr>\n",
       "    <tr>\n",
       "      <th>2</th>\n",
       "      <td>timjogn@gmail.com</td>\n",
       "      <td>Vasil</td>\n",
       "      <td>JOE</td>\n",
       "      <td>Vasil timjogn@gmail.com</td>\n",
       "    </tr>\n",
       "  </tbody>\n",
       "</table>\n",
       "</div>"
      ],
      "text/plain": [
       "             emailasas   last name   vardas                     full name\n",
       "0      myk.rut@milo.lt  RUtkauskas    Kazys    RUtkauskas myk.rut@milo.lt\n",
       "1  janderis@yahooo.com    Andersas  JANESAS  Andersas janderis@yahooo.com\n",
       "2    timjogn@gmail.com       Vasil      JOE       Vasil timjogn@gmail.com"
      ]
     },
     "execution_count": 423,
     "metadata": {},
     "output_type": "execute_result"
    }
   ],
   "source": [
    "df"
   ]
  },
  {
   "cell_type": "code",
   "execution_count": 425,
   "id": "46b7d11d-0c8e-40bd-a2fa-d849f91b14fa",
   "metadata": {},
   "outputs": [
    {
     "data": {
      "text/html": [
       "<div>\n",
       "<style scoped>\n",
       "    .dataframe tbody tr th:only-of-type {\n",
       "        vertical-align: middle;\n",
       "    }\n",
       "\n",
       "    .dataframe tbody tr th {\n",
       "        vertical-align: top;\n",
       "    }\n",
       "\n",
       "    .dataframe thead th {\n",
       "        text-align: right;\n",
       "    }\n",
       "</style>\n",
       "<table border=\"1\" class=\"dataframe\">\n",
       "  <thead>\n",
       "    <tr style=\"text-align: right;\">\n",
       "      <th></th>\n",
       "      <th>0</th>\n",
       "      <th>1</th>\n",
       "    </tr>\n",
       "  </thead>\n",
       "  <tbody>\n",
       "    <tr>\n",
       "      <th>0</th>\n",
       "      <td>RUtkauskas</td>\n",
       "      <td>myk.rut@milo.lt</td>\n",
       "    </tr>\n",
       "    <tr>\n",
       "      <th>1</th>\n",
       "      <td>Andersas</td>\n",
       "      <td>janderis@yahooo.com</td>\n",
       "    </tr>\n",
       "    <tr>\n",
       "      <th>2</th>\n",
       "      <td>Vasil</td>\n",
       "      <td>timjogn@gmail.com</td>\n",
       "    </tr>\n",
       "  </tbody>\n",
       "</table>\n",
       "</div>"
      ],
      "text/plain": [
       "            0                    1\n",
       "0  RUtkauskas      myk.rut@milo.lt\n",
       "1    Andersas  janderis@yahooo.com\n",
       "2       Vasil    timjogn@gmail.com"
      ]
     },
     "execution_count": 425,
     "metadata": {},
     "output_type": "execute_result"
    }
   ],
   "source": [
    "df[\"full name\"].str.split(\" \", expand= True)"
   ]
  },
  {
   "cell_type": "code",
   "execution_count": 426,
   "id": "7460cd5f-759b-4ca6-85ce-9d20bf54c94c",
   "metadata": {},
   "outputs": [],
   "source": [
    "df[[\"Last\", \"email\"]] = df[\"full name\"].str.split(\" \", expand = True)"
   ]
  },
  {
   "cell_type": "code",
   "execution_count": 427,
   "id": "db0e3b4d-5997-4bf1-998c-7fb321161c4d",
   "metadata": {},
   "outputs": [
    {
     "data": {
      "text/html": [
       "<div>\n",
       "<style scoped>\n",
       "    .dataframe tbody tr th:only-of-type {\n",
       "        vertical-align: middle;\n",
       "    }\n",
       "\n",
       "    .dataframe tbody tr th {\n",
       "        vertical-align: top;\n",
       "    }\n",
       "\n",
       "    .dataframe thead th {\n",
       "        text-align: right;\n",
       "    }\n",
       "</style>\n",
       "<table border=\"1\" class=\"dataframe\">\n",
       "  <thead>\n",
       "    <tr style=\"text-align: right;\">\n",
       "      <th></th>\n",
       "      <th>emailasas</th>\n",
       "      <th>last name</th>\n",
       "      <th>vardas</th>\n",
       "      <th>full name</th>\n",
       "      <th>Last</th>\n",
       "      <th>email</th>\n",
       "    </tr>\n",
       "  </thead>\n",
       "  <tbody>\n",
       "    <tr>\n",
       "      <th>0</th>\n",
       "      <td>myk.rut@milo.lt</td>\n",
       "      <td>RUtkauskas</td>\n",
       "      <td>Kazys</td>\n",
       "      <td>RUtkauskas myk.rut@milo.lt</td>\n",
       "      <td>RUtkauskas</td>\n",
       "      <td>myk.rut@milo.lt</td>\n",
       "    </tr>\n",
       "    <tr>\n",
       "      <th>1</th>\n",
       "      <td>janderis@yahooo.com</td>\n",
       "      <td>Andersas</td>\n",
       "      <td>JANESAS</td>\n",
       "      <td>Andersas janderis@yahooo.com</td>\n",
       "      <td>Andersas</td>\n",
       "      <td>janderis@yahooo.com</td>\n",
       "    </tr>\n",
       "    <tr>\n",
       "      <th>2</th>\n",
       "      <td>timjogn@gmail.com</td>\n",
       "      <td>Vasil</td>\n",
       "      <td>JOE</td>\n",
       "      <td>Vasil timjogn@gmail.com</td>\n",
       "      <td>Vasil</td>\n",
       "      <td>timjogn@gmail.com</td>\n",
       "    </tr>\n",
       "  </tbody>\n",
       "</table>\n",
       "</div>"
      ],
      "text/plain": [
       "             emailasas   last name   vardas                     full name  \\\n",
       "0      myk.rut@milo.lt  RUtkauskas    Kazys    RUtkauskas myk.rut@milo.lt   \n",
       "1  janderis@yahooo.com    Andersas  JANESAS  Andersas janderis@yahooo.com   \n",
       "2    timjogn@gmail.com       Vasil      JOE       Vasil timjogn@gmail.com   \n",
       "\n",
       "         Last                email  \n",
       "0  RUtkauskas      myk.rut@milo.lt  \n",
       "1    Andersas  janderis@yahooo.com  \n",
       "2       Vasil    timjogn@gmail.com  "
      ]
     },
     "execution_count": 427,
     "metadata": {},
     "output_type": "execute_result"
    }
   ],
   "source": [
    "df"
   ]
  },
  {
   "cell_type": "code",
   "execution_count": 430,
   "id": "332ac7ee-4847-4462-b1f5-ed63f5b87430",
   "metadata": {},
   "outputs": [
    {
     "name": "stderr",
     "output_type": "stream",
     "text": [
      "C:\\Users\\Vartotojas\\AppData\\Local\\Temp\\ipykernel_11680\\1291960493.py:1: FutureWarning: The frame.append method is deprecated and will be removed from pandas in a future version. Use pandas.concat instead.\n",
      "  df.append({\"vardas\": \"Tony\"}, ignore_index=True)\n"
     ]
    },
    {
     "data": {
      "text/html": [
       "<div>\n",
       "<style scoped>\n",
       "    .dataframe tbody tr th:only-of-type {\n",
       "        vertical-align: middle;\n",
       "    }\n",
       "\n",
       "    .dataframe tbody tr th {\n",
       "        vertical-align: top;\n",
       "    }\n",
       "\n",
       "    .dataframe thead th {\n",
       "        text-align: right;\n",
       "    }\n",
       "</style>\n",
       "<table border=\"1\" class=\"dataframe\">\n",
       "  <thead>\n",
       "    <tr style=\"text-align: right;\">\n",
       "      <th></th>\n",
       "      <th>emailasas</th>\n",
       "      <th>last name</th>\n",
       "      <th>vardas</th>\n",
       "      <th>full name</th>\n",
       "      <th>Last</th>\n",
       "      <th>email</th>\n",
       "    </tr>\n",
       "  </thead>\n",
       "  <tbody>\n",
       "    <tr>\n",
       "      <th>0</th>\n",
       "      <td>myk.rut@milo.lt</td>\n",
       "      <td>RUtkauskas</td>\n",
       "      <td>Kazys</td>\n",
       "      <td>RUtkauskas myk.rut@milo.lt</td>\n",
       "      <td>RUtkauskas</td>\n",
       "      <td>myk.rut@milo.lt</td>\n",
       "    </tr>\n",
       "    <tr>\n",
       "      <th>1</th>\n",
       "      <td>janderis@yahooo.com</td>\n",
       "      <td>Andersas</td>\n",
       "      <td>JANESAS</td>\n",
       "      <td>Andersas janderis@yahooo.com</td>\n",
       "      <td>Andersas</td>\n",
       "      <td>janderis@yahooo.com</td>\n",
       "    </tr>\n",
       "    <tr>\n",
       "      <th>2</th>\n",
       "      <td>timjogn@gmail.com</td>\n",
       "      <td>Vasil</td>\n",
       "      <td>JOE</td>\n",
       "      <td>Vasil timjogn@gmail.com</td>\n",
       "      <td>Vasil</td>\n",
       "      <td>timjogn@gmail.com</td>\n",
       "    </tr>\n",
       "    <tr>\n",
       "      <th>3</th>\n",
       "      <td>NaN</td>\n",
       "      <td>NaN</td>\n",
       "      <td>Tony</td>\n",
       "      <td>NaN</td>\n",
       "      <td>NaN</td>\n",
       "      <td>NaN</td>\n",
       "    </tr>\n",
       "  </tbody>\n",
       "</table>\n",
       "</div>"
      ],
      "text/plain": [
       "             emailasas   last name   vardas                     full name  \\\n",
       "0      myk.rut@milo.lt  RUtkauskas    Kazys    RUtkauskas myk.rut@milo.lt   \n",
       "1  janderis@yahooo.com    Andersas  JANESAS  Andersas janderis@yahooo.com   \n",
       "2    timjogn@gmail.com       Vasil      JOE       Vasil timjogn@gmail.com   \n",
       "3                  NaN         NaN     Tony                           NaN   \n",
       "\n",
       "         Last                email  \n",
       "0  RUtkauskas      myk.rut@milo.lt  \n",
       "1    Andersas  janderis@yahooo.com  \n",
       "2       Vasil    timjogn@gmail.com  \n",
       "3         NaN                  NaN  "
      ]
     },
     "execution_count": 430,
     "metadata": {},
     "output_type": "execute_result"
    }
   ],
   "source": [
    "df.append({\"vardas\": \"Tony\"}, ignore_index=True)"
   ]
  },
  {
   "cell_type": "code",
   "execution_count": 431,
   "id": "2f26b9bd-5944-4e82-bcf5-30d7beaab6aa",
   "metadata": {},
   "outputs": [],
   "source": [
    "people = {\n",
    "    \"vardas\": [\"Otis\", \"Valentas\"],\n",
    "    \"last\": [\"Verino\", \"Osovi\"],\n",
    "    \"email\": [\"ot.ver@milo.lt\", \"val.oso@yahoo.com\"]\n",
    "}\n",
    "\n",
    "df2 = pd.DataFrame(people)"
   ]
  },
  {
   "cell_type": "code",
   "execution_count": 432,
   "id": "825bde0c-ca9f-4067-8ea7-07442ab2e967",
   "metadata": {},
   "outputs": [
    {
     "data": {
      "text/html": [
       "<div>\n",
       "<style scoped>\n",
       "    .dataframe tbody tr th:only-of-type {\n",
       "        vertical-align: middle;\n",
       "    }\n",
       "\n",
       "    .dataframe tbody tr th {\n",
       "        vertical-align: top;\n",
       "    }\n",
       "\n",
       "    .dataframe thead th {\n",
       "        text-align: right;\n",
       "    }\n",
       "</style>\n",
       "<table border=\"1\" class=\"dataframe\">\n",
       "  <thead>\n",
       "    <tr style=\"text-align: right;\">\n",
       "      <th></th>\n",
       "      <th>vardas</th>\n",
       "      <th>last</th>\n",
       "      <th>email</th>\n",
       "    </tr>\n",
       "  </thead>\n",
       "  <tbody>\n",
       "    <tr>\n",
       "      <th>0</th>\n",
       "      <td>Otis</td>\n",
       "      <td>Verino</td>\n",
       "      <td>ot.ver@milo.lt</td>\n",
       "    </tr>\n",
       "    <tr>\n",
       "      <th>1</th>\n",
       "      <td>Valentas</td>\n",
       "      <td>Osovi</td>\n",
       "      <td>val.oso@yahoo.com</td>\n",
       "    </tr>\n",
       "  </tbody>\n",
       "</table>\n",
       "</div>"
      ],
      "text/plain": [
       "     vardas    last              email\n",
       "0      Otis  Verino     ot.ver@milo.lt\n",
       "1  Valentas   Osovi  val.oso@yahoo.com"
      ]
     },
     "execution_count": 432,
     "metadata": {},
     "output_type": "execute_result"
    }
   ],
   "source": [
    "df2"
   ]
  },
  {
   "cell_type": "code",
   "execution_count": 435,
   "id": "32b98643-d0fe-4201-8098-9b2356e32878",
   "metadata": {},
   "outputs": [
    {
     "name": "stderr",
     "output_type": "stream",
     "text": [
      "C:\\Users\\Vartotojas\\AppData\\Local\\Temp\\ipykernel_11680\\2517880801.py:1: FutureWarning: The frame.append method is deprecated and will be removed from pandas in a future version. Use pandas.concat instead.\n",
      "  df = df.append(df2, ignore_index=True, sort = False)\n"
     ]
    }
   ],
   "source": [
    "df = df.append(df2, ignore_index=True, sort = False)"
   ]
  },
  {
   "cell_type": "code",
   "execution_count": 436,
   "id": "79b0aa8e-1351-4321-bb4b-43b856d3844d",
   "metadata": {},
   "outputs": [
    {
     "data": {
      "text/html": [
       "<div>\n",
       "<style scoped>\n",
       "    .dataframe tbody tr th:only-of-type {\n",
       "        vertical-align: middle;\n",
       "    }\n",
       "\n",
       "    .dataframe tbody tr th {\n",
       "        vertical-align: top;\n",
       "    }\n",
       "\n",
       "    .dataframe thead th {\n",
       "        text-align: right;\n",
       "    }\n",
       "</style>\n",
       "<table border=\"1\" class=\"dataframe\">\n",
       "  <thead>\n",
       "    <tr style=\"text-align: right;\">\n",
       "      <th></th>\n",
       "      <th>emailasas</th>\n",
       "      <th>last name</th>\n",
       "      <th>vardas</th>\n",
       "      <th>full name</th>\n",
       "      <th>Last</th>\n",
       "      <th>email</th>\n",
       "      <th>last</th>\n",
       "    </tr>\n",
       "  </thead>\n",
       "  <tbody>\n",
       "    <tr>\n",
       "      <th>0</th>\n",
       "      <td>myk.rut@milo.lt</td>\n",
       "      <td>RUtkauskas</td>\n",
       "      <td>Kazys</td>\n",
       "      <td>RUtkauskas myk.rut@milo.lt</td>\n",
       "      <td>RUtkauskas</td>\n",
       "      <td>myk.rut@milo.lt</td>\n",
       "      <td>NaN</td>\n",
       "    </tr>\n",
       "    <tr>\n",
       "      <th>1</th>\n",
       "      <td>janderis@yahooo.com</td>\n",
       "      <td>Andersas</td>\n",
       "      <td>JANESAS</td>\n",
       "      <td>Andersas janderis@yahooo.com</td>\n",
       "      <td>Andersas</td>\n",
       "      <td>janderis@yahooo.com</td>\n",
       "      <td>NaN</td>\n",
       "    </tr>\n",
       "    <tr>\n",
       "      <th>2</th>\n",
       "      <td>timjogn@gmail.com</td>\n",
       "      <td>Vasil</td>\n",
       "      <td>JOE</td>\n",
       "      <td>Vasil timjogn@gmail.com</td>\n",
       "      <td>Vasil</td>\n",
       "      <td>timjogn@gmail.com</td>\n",
       "      <td>NaN</td>\n",
       "    </tr>\n",
       "    <tr>\n",
       "      <th>3</th>\n",
       "      <td>NaN</td>\n",
       "      <td>NaN</td>\n",
       "      <td>Otis</td>\n",
       "      <td>NaN</td>\n",
       "      <td>NaN</td>\n",
       "      <td>ot.ver@milo.lt</td>\n",
       "      <td>Verino</td>\n",
       "    </tr>\n",
       "    <tr>\n",
       "      <th>4</th>\n",
       "      <td>NaN</td>\n",
       "      <td>NaN</td>\n",
       "      <td>Valentas</td>\n",
       "      <td>NaN</td>\n",
       "      <td>NaN</td>\n",
       "      <td>val.oso@yahoo.com</td>\n",
       "      <td>Osovi</td>\n",
       "    </tr>\n",
       "  </tbody>\n",
       "</table>\n",
       "</div>"
      ],
      "text/plain": [
       "             emailasas   last name    vardas                     full name  \\\n",
       "0      myk.rut@milo.lt  RUtkauskas     Kazys    RUtkauskas myk.rut@milo.lt   \n",
       "1  janderis@yahooo.com    Andersas   JANESAS  Andersas janderis@yahooo.com   \n",
       "2    timjogn@gmail.com       Vasil       JOE       Vasil timjogn@gmail.com   \n",
       "3                  NaN         NaN      Otis                           NaN   \n",
       "4                  NaN         NaN  Valentas                           NaN   \n",
       "\n",
       "         Last                email    last  \n",
       "0  RUtkauskas      myk.rut@milo.lt     NaN  \n",
       "1    Andersas  janderis@yahooo.com     NaN  \n",
       "2       Vasil    timjogn@gmail.com     NaN  \n",
       "3         NaN       ot.ver@milo.lt  Verino  \n",
       "4         NaN    val.oso@yahoo.com   Osovi  "
      ]
     },
     "execution_count": 436,
     "metadata": {},
     "output_type": "execute_result"
    }
   ],
   "source": [
    "df"
   ]
  },
  {
   "cell_type": "code",
   "execution_count": 437,
   "id": "97a6cba5-4cbe-41d0-be6f-65c59fbc20e6",
   "metadata": {},
   "outputs": [
    {
     "data": {
      "text/html": [
       "<div>\n",
       "<style scoped>\n",
       "    .dataframe tbody tr th:only-of-type {\n",
       "        vertical-align: middle;\n",
       "    }\n",
       "\n",
       "    .dataframe tbody tr th {\n",
       "        vertical-align: top;\n",
       "    }\n",
       "\n",
       "    .dataframe thead th {\n",
       "        text-align: right;\n",
       "    }\n",
       "</style>\n",
       "<table border=\"1\" class=\"dataframe\">\n",
       "  <thead>\n",
       "    <tr style=\"text-align: right;\">\n",
       "      <th></th>\n",
       "      <th>emailasas</th>\n",
       "      <th>last name</th>\n",
       "      <th>vardas</th>\n",
       "      <th>full name</th>\n",
       "      <th>Last</th>\n",
       "      <th>email</th>\n",
       "      <th>last</th>\n",
       "    </tr>\n",
       "  </thead>\n",
       "  <tbody>\n",
       "    <tr>\n",
       "      <th>0</th>\n",
       "      <td>myk.rut@milo.lt</td>\n",
       "      <td>RUtkauskas</td>\n",
       "      <td>Kazys</td>\n",
       "      <td>RUtkauskas myk.rut@milo.lt</td>\n",
       "      <td>RUtkauskas</td>\n",
       "      <td>myk.rut@milo.lt</td>\n",
       "      <td>NaN</td>\n",
       "    </tr>\n",
       "    <tr>\n",
       "      <th>1</th>\n",
       "      <td>janderis@yahooo.com</td>\n",
       "      <td>Andersas</td>\n",
       "      <td>JANESAS</td>\n",
       "      <td>Andersas janderis@yahooo.com</td>\n",
       "      <td>Andersas</td>\n",
       "      <td>janderis@yahooo.com</td>\n",
       "      <td>NaN</td>\n",
       "    </tr>\n",
       "    <tr>\n",
       "      <th>2</th>\n",
       "      <td>timjogn@gmail.com</td>\n",
       "      <td>Vasil</td>\n",
       "      <td>JOE</td>\n",
       "      <td>Vasil timjogn@gmail.com</td>\n",
       "      <td>Vasil</td>\n",
       "      <td>timjogn@gmail.com</td>\n",
       "      <td>NaN</td>\n",
       "    </tr>\n",
       "    <tr>\n",
       "      <th>3</th>\n",
       "      <td>NaN</td>\n",
       "      <td>NaN</td>\n",
       "      <td>Otis</td>\n",
       "      <td>NaN</td>\n",
       "      <td>NaN</td>\n",
       "      <td>ot.ver@milo.lt</td>\n",
       "      <td>Verino</td>\n",
       "    </tr>\n",
       "  </tbody>\n",
       "</table>\n",
       "</div>"
      ],
      "text/plain": [
       "             emailasas   last name   vardas                     full name  \\\n",
       "0      myk.rut@milo.lt  RUtkauskas    Kazys    RUtkauskas myk.rut@milo.lt   \n",
       "1  janderis@yahooo.com    Andersas  JANESAS  Andersas janderis@yahooo.com   \n",
       "2    timjogn@gmail.com       Vasil      JOE       Vasil timjogn@gmail.com   \n",
       "3                  NaN         NaN     Otis                           NaN   \n",
       "\n",
       "         Last                email    last  \n",
       "0  RUtkauskas      myk.rut@milo.lt     NaN  \n",
       "1    Andersas  janderis@yahooo.com     NaN  \n",
       "2       Vasil    timjogn@gmail.com     NaN  \n",
       "3         NaN       ot.ver@milo.lt  Verino  "
      ]
     },
     "execution_count": 437,
     "metadata": {},
     "output_type": "execute_result"
    }
   ],
   "source": [
    "df.drop(index=4)"
   ]
  },
  {
   "cell_type": "code",
   "execution_count": 447,
   "id": "fbc36690-178a-4fd1-8861-b5597a930e83",
   "metadata": {},
   "outputs": [
    {
     "data": {
      "text/html": [
       "<div>\n",
       "<style scoped>\n",
       "    .dataframe tbody tr th:only-of-type {\n",
       "        vertical-align: middle;\n",
       "    }\n",
       "\n",
       "    .dataframe tbody tr th {\n",
       "        vertical-align: top;\n",
       "    }\n",
       "\n",
       "    .dataframe thead th {\n",
       "        text-align: right;\n",
       "    }\n",
       "</style>\n",
       "<table border=\"1\" class=\"dataframe\">\n",
       "  <thead>\n",
       "    <tr style=\"text-align: right;\">\n",
       "      <th></th>\n",
       "      <th>emailasas</th>\n",
       "      <th>last name</th>\n",
       "      <th>vardas</th>\n",
       "      <th>full name</th>\n",
       "      <th>Last</th>\n",
       "      <th>email</th>\n",
       "      <th>last</th>\n",
       "    </tr>\n",
       "  </thead>\n",
       "  <tbody>\n",
       "    <tr>\n",
       "      <th>0</th>\n",
       "      <td>myk.rut@milo.lt</td>\n",
       "      <td>RUtkauskas</td>\n",
       "      <td>Kazys</td>\n",
       "      <td>RUtkauskas myk.rut@milo.lt</td>\n",
       "      <td>RUtkauskas</td>\n",
       "      <td>myk.rut@milo.lt</td>\n",
       "      <td>NaN</td>\n",
       "    </tr>\n",
       "    <tr>\n",
       "      <th>2</th>\n",
       "      <td>timjogn@gmail.com</td>\n",
       "      <td>Vasil</td>\n",
       "      <td>JOE</td>\n",
       "      <td>Vasil timjogn@gmail.com</td>\n",
       "      <td>Vasil</td>\n",
       "      <td>timjogn@gmail.com</td>\n",
       "      <td>NaN</td>\n",
       "    </tr>\n",
       "    <tr>\n",
       "      <th>3</th>\n",
       "      <td>NaN</td>\n",
       "      <td>NaN</td>\n",
       "      <td>Otis</td>\n",
       "      <td>NaN</td>\n",
       "      <td>NaN</td>\n",
       "      <td>ot.ver@milo.lt</td>\n",
       "      <td>Verino</td>\n",
       "    </tr>\n",
       "    <tr>\n",
       "      <th>4</th>\n",
       "      <td>NaN</td>\n",
       "      <td>NaN</td>\n",
       "      <td>Valentas</td>\n",
       "      <td>NaN</td>\n",
       "      <td>NaN</td>\n",
       "      <td>val.oso@yahoo.com</td>\n",
       "      <td>Osovi</td>\n",
       "    </tr>\n",
       "  </tbody>\n",
       "</table>\n",
       "</div>"
      ],
      "text/plain": [
       "           emailasas   last name    vardas                   full name  \\\n",
       "0    myk.rut@milo.lt  RUtkauskas     Kazys  RUtkauskas myk.rut@milo.lt   \n",
       "2  timjogn@gmail.com       Vasil       JOE     Vasil timjogn@gmail.com   \n",
       "3                NaN         NaN      Otis                         NaN   \n",
       "4                NaN         NaN  Valentas                         NaN   \n",
       "\n",
       "         Last              email    last  \n",
       "0  RUtkauskas    myk.rut@milo.lt     NaN  \n",
       "2       Vasil  timjogn@gmail.com     NaN  \n",
       "3         NaN     ot.ver@milo.lt  Verino  \n",
       "4         NaN  val.oso@yahoo.com   Osovi  "
      ]
     },
     "execution_count": 447,
     "metadata": {},
     "output_type": "execute_result"
    }
   ],
   "source": [
    "filt = df[\"Last\"]==\"Andersas\"\n",
    "df.drop(index = df[filt].index)"
   ]
  },
  {
   "cell_type": "code",
   "execution_count": 452,
   "id": "c73efa43-4ad2-4d5e-8e8d-3049b78bc181",
   "metadata": {},
   "outputs": [],
   "source": [
    "filt = df[\"Last\"]==\"Vasil\"\n",
    "index = df[filt].index"
   ]
  },
  {
   "cell_type": "code",
   "execution_count": 453,
   "id": "1f971ebc-1378-4bbf-b6d8-28a3040f41ca",
   "metadata": {},
   "outputs": [
    {
     "data": {
      "text/plain": [
       "Int64Index([2], dtype='int64')"
      ]
     },
     "execution_count": 453,
     "metadata": {},
     "output_type": "execute_result"
    }
   ],
   "source": [
    "index"
   ]
  },
  {
   "cell_type": "code",
   "execution_count": 455,
   "id": "389e1bd4-947c-4a8d-9458-667da0fb60f6",
   "metadata": {},
   "outputs": [
    {
     "data": {
      "text/html": [
       "<div>\n",
       "<style scoped>\n",
       "    .dataframe tbody tr th:only-of-type {\n",
       "        vertical-align: middle;\n",
       "    }\n",
       "\n",
       "    .dataframe tbody tr th {\n",
       "        vertical-align: top;\n",
       "    }\n",
       "\n",
       "    .dataframe thead th {\n",
       "        text-align: right;\n",
       "    }\n",
       "</style>\n",
       "<table border=\"1\" class=\"dataframe\">\n",
       "  <thead>\n",
       "    <tr style=\"text-align: right;\">\n",
       "      <th></th>\n",
       "      <th>emailasas</th>\n",
       "      <th>last name</th>\n",
       "      <th>vardas</th>\n",
       "      <th>full name</th>\n",
       "      <th>Last</th>\n",
       "      <th>email</th>\n",
       "      <th>last</th>\n",
       "    </tr>\n",
       "  </thead>\n",
       "  <tbody>\n",
       "    <tr>\n",
       "      <th>1</th>\n",
       "      <td>janderis@yahooo.com</td>\n",
       "      <td>Andersas</td>\n",
       "      <td>JANESAS</td>\n",
       "      <td>Andersas janderis@yahooo.com</td>\n",
       "      <td>Andersas</td>\n",
       "      <td>janderis@yahooo.com</td>\n",
       "      <td>NaN</td>\n",
       "    </tr>\n",
       "    <tr>\n",
       "      <th>0</th>\n",
       "      <td>myk.rut@milo.lt</td>\n",
       "      <td>RUtkauskas</td>\n",
       "      <td>Kazys</td>\n",
       "      <td>RUtkauskas myk.rut@milo.lt</td>\n",
       "      <td>RUtkauskas</td>\n",
       "      <td>myk.rut@milo.lt</td>\n",
       "      <td>NaN</td>\n",
       "    </tr>\n",
       "    <tr>\n",
       "      <th>2</th>\n",
       "      <td>timjogn@gmail.com</td>\n",
       "      <td>Vasil</td>\n",
       "      <td>JOE</td>\n",
       "      <td>Vasil timjogn@gmail.com</td>\n",
       "      <td>Vasil</td>\n",
       "      <td>timjogn@gmail.com</td>\n",
       "      <td>NaN</td>\n",
       "    </tr>\n",
       "    <tr>\n",
       "      <th>3</th>\n",
       "      <td>NaN</td>\n",
       "      <td>NaN</td>\n",
       "      <td>Otis</td>\n",
       "      <td>NaN</td>\n",
       "      <td>NaN</td>\n",
       "      <td>ot.ver@milo.lt</td>\n",
       "      <td>Verino</td>\n",
       "    </tr>\n",
       "    <tr>\n",
       "      <th>4</th>\n",
       "      <td>NaN</td>\n",
       "      <td>NaN</td>\n",
       "      <td>Valentas</td>\n",
       "      <td>NaN</td>\n",
       "      <td>NaN</td>\n",
       "      <td>val.oso@yahoo.com</td>\n",
       "      <td>Osovi</td>\n",
       "    </tr>\n",
       "  </tbody>\n",
       "</table>\n",
       "</div>"
      ],
      "text/plain": [
       "             emailasas   last name    vardas                     full name  \\\n",
       "1  janderis@yahooo.com    Andersas   JANESAS  Andersas janderis@yahooo.com   \n",
       "0      myk.rut@milo.lt  RUtkauskas     Kazys    RUtkauskas myk.rut@milo.lt   \n",
       "2    timjogn@gmail.com       Vasil       JOE       Vasil timjogn@gmail.com   \n",
       "3                  NaN         NaN      Otis                           NaN   \n",
       "4                  NaN         NaN  Valentas                           NaN   \n",
       "\n",
       "         Last                email    last  \n",
       "1    Andersas  janderis@yahooo.com     NaN  \n",
       "0  RUtkauskas      myk.rut@milo.lt     NaN  \n",
       "2       Vasil    timjogn@gmail.com     NaN  \n",
       "3         NaN       ot.ver@milo.lt  Verino  \n",
       "4         NaN    val.oso@yahoo.com   Osovi  "
      ]
     },
     "execution_count": 455,
     "metadata": {},
     "output_type": "execute_result"
    }
   ],
   "source": [
    "df.sort_values(by= \"Last\")"
   ]
  },
  {
   "cell_type": "code",
   "execution_count": null,
   "id": "4bc08b5d-a068-4dfa-aeb2-b490c2870e4c",
   "metadata": {},
   "outputs": [],
   "source": []
  },
  {
   "cell_type": "code",
   "execution_count": 469,
   "id": "b987d1c8-81da-4e56-9494-5714be4557bf",
   "metadata": {},
   "outputs": [
    {
     "data": {
      "text/html": [
       "<div>\n",
       "<style scoped>\n",
       "    .dataframe tbody tr th:only-of-type {\n",
       "        vertical-align: middle;\n",
       "    }\n",
       "\n",
       "    .dataframe tbody tr th {\n",
       "        vertical-align: top;\n",
       "    }\n",
       "\n",
       "    .dataframe thead th {\n",
       "        text-align: right;\n",
       "    }\n",
       "</style>\n",
       "<table border=\"1\" class=\"dataframe\">\n",
       "  <thead>\n",
       "    <tr style=\"text-align: right;\">\n",
       "      <th></th>\n",
       "      <th>emailasas</th>\n",
       "      <th>last name</th>\n",
       "      <th>vardas</th>\n",
       "      <th>Last</th>\n",
       "    </tr>\n",
       "  </thead>\n",
       "  <tbody>\n",
       "    <tr>\n",
       "      <th>0</th>\n",
       "      <td>myk.rut@milo.lt</td>\n",
       "      <td>RUtkauskas</td>\n",
       "      <td>Kazys</td>\n",
       "      <td>RUtkauskas</td>\n",
       "    </tr>\n",
       "    <tr>\n",
       "      <th>1</th>\n",
       "      <td>janderis@yahooo.com</td>\n",
       "      <td>Andersas</td>\n",
       "      <td>JANESAS</td>\n",
       "      <td>Andersas</td>\n",
       "    </tr>\n",
       "    <tr>\n",
       "      <th>2</th>\n",
       "      <td>timjogn@gmail.com</td>\n",
       "      <td>Vasil</td>\n",
       "      <td>JOE</td>\n",
       "      <td>Vasil</td>\n",
       "    </tr>\n",
       "    <tr>\n",
       "      <th>3</th>\n",
       "      <td>NaN</td>\n",
       "      <td>NaN</td>\n",
       "      <td>Otis</td>\n",
       "      <td>NaN</td>\n",
       "    </tr>\n",
       "    <tr>\n",
       "      <th>4</th>\n",
       "      <td>NaN</td>\n",
       "      <td>NaN</td>\n",
       "      <td>Valentas</td>\n",
       "      <td>NaN</td>\n",
       "    </tr>\n",
       "  </tbody>\n",
       "</table>\n",
       "</div>"
      ],
      "text/plain": [
       "             emailasas   last name    vardas        Last\n",
       "0      myk.rut@milo.lt  RUtkauskas     Kazys  RUtkauskas\n",
       "1  janderis@yahooo.com    Andersas   JANESAS    Andersas\n",
       "2    timjogn@gmail.com       Vasil       JOE       Vasil\n",
       "3                  NaN         NaN      Otis         NaN\n",
       "4                  NaN         NaN  Valentas         NaN"
      ]
     },
     "execution_count": 469,
     "metadata": {},
     "output_type": "execute_result"
    }
   ],
   "source": [
    "df"
   ]
  },
  {
   "cell_type": "code",
   "execution_count": 470,
   "id": "f0f46f9f-fb28-4869-96a9-1a680ce400e3",
   "metadata": {},
   "outputs": [
    {
     "data": {
      "text/html": [
       "<div>\n",
       "<style scoped>\n",
       "    .dataframe tbody tr th:only-of-type {\n",
       "        vertical-align: middle;\n",
       "    }\n",
       "\n",
       "    .dataframe tbody tr th {\n",
       "        vertical-align: top;\n",
       "    }\n",
       "\n",
       "    .dataframe thead th {\n",
       "        text-align: right;\n",
       "    }\n",
       "</style>\n",
       "<table border=\"1\" class=\"dataframe\">\n",
       "  <thead>\n",
       "    <tr style=\"text-align: right;\">\n",
       "      <th></th>\n",
       "      <th>emailasas</th>\n",
       "      <th>last name</th>\n",
       "      <th>vardas</th>\n",
       "      <th>Last</th>\n",
       "    </tr>\n",
       "  </thead>\n",
       "  <tbody>\n",
       "    <tr>\n",
       "      <th>1</th>\n",
       "      <td>janderis@yahooo.com</td>\n",
       "      <td>Andersas</td>\n",
       "      <td>JANESAS</td>\n",
       "      <td>Andersas</td>\n",
       "    </tr>\n",
       "    <tr>\n",
       "      <th>0</th>\n",
       "      <td>myk.rut@milo.lt</td>\n",
       "      <td>RUtkauskas</td>\n",
       "      <td>Kazys</td>\n",
       "      <td>RUtkauskas</td>\n",
       "    </tr>\n",
       "    <tr>\n",
       "      <th>2</th>\n",
       "      <td>timjogn@gmail.com</td>\n",
       "      <td>Vasil</td>\n",
       "      <td>JOE</td>\n",
       "      <td>Vasil</td>\n",
       "    </tr>\n",
       "    <tr>\n",
       "      <th>3</th>\n",
       "      <td>NaN</td>\n",
       "      <td>NaN</td>\n",
       "      <td>Otis</td>\n",
       "      <td>NaN</td>\n",
       "    </tr>\n",
       "    <tr>\n",
       "      <th>4</th>\n",
       "      <td>NaN</td>\n",
       "      <td>NaN</td>\n",
       "      <td>Valentas</td>\n",
       "      <td>NaN</td>\n",
       "    </tr>\n",
       "  </tbody>\n",
       "</table>\n",
       "</div>"
      ],
      "text/plain": [
       "             emailasas   last name    vardas        Last\n",
       "1  janderis@yahooo.com    Andersas   JANESAS    Andersas\n",
       "0      myk.rut@milo.lt  RUtkauskas     Kazys  RUtkauskas\n",
       "2    timjogn@gmail.com       Vasil       JOE       Vasil\n",
       "3                  NaN         NaN      Otis         NaN\n",
       "4                  NaN         NaN  Valentas         NaN"
      ]
     },
     "execution_count": 470,
     "metadata": {},
     "output_type": "execute_result"
    }
   ],
   "source": [
    "df.sort_values(by = \"emailasas\")"
   ]
  },
  {
   "cell_type": "code",
   "execution_count": 473,
   "id": "431c02a4-9005-4368-b3c3-a2527e520626",
   "metadata": {},
   "outputs": [
    {
     "data": {
      "text/plain": [
       "emailasas         NaN\n",
       "last name         NaN\n",
       "vardas       Valentas\n",
       "Last              NaN\n",
       "Name: 4, dtype: object"
      ]
     },
     "execution_count": 473,
     "metadata": {},
     "output_type": "execute_result"
    }
   ],
   "source": [
    "df.loc[4]"
   ]
  },
  {
   "cell_type": "code",
   "execution_count": 477,
   "id": "03a8d167-d7ef-4991-85d7-1eb5f5ef9466",
   "metadata": {},
   "outputs": [],
   "source": [
    "df.loc[4] = [\"valentasas@mil.com\", \"Marinauskas\", \"Valentas\", \"Marin\"]\n",
    "df.loc[3] = [\"otos@mil.com\", \"KAris\", \"Otis\", \"Puzinas\"]"
   ]
  },
  {
   "cell_type": "code",
   "execution_count": 478,
   "id": "d668abd8-0859-4e19-b3ad-7e2606d25cfb",
   "metadata": {},
   "outputs": [
    {
     "data": {
      "text/html": [
       "<div>\n",
       "<style scoped>\n",
       "    .dataframe tbody tr th:only-of-type {\n",
       "        vertical-align: middle;\n",
       "    }\n",
       "\n",
       "    .dataframe tbody tr th {\n",
       "        vertical-align: top;\n",
       "    }\n",
       "\n",
       "    .dataframe thead th {\n",
       "        text-align: right;\n",
       "    }\n",
       "</style>\n",
       "<table border=\"1\" class=\"dataframe\">\n",
       "  <thead>\n",
       "    <tr style=\"text-align: right;\">\n",
       "      <th></th>\n",
       "      <th>emailasas</th>\n",
       "      <th>last name</th>\n",
       "      <th>vardas</th>\n",
       "      <th>Last</th>\n",
       "    </tr>\n",
       "  </thead>\n",
       "  <tbody>\n",
       "    <tr>\n",
       "      <th>0</th>\n",
       "      <td>myk.rut@milo.lt</td>\n",
       "      <td>RUtkauskas</td>\n",
       "      <td>Kazys</td>\n",
       "      <td>RUtkauskas</td>\n",
       "    </tr>\n",
       "    <tr>\n",
       "      <th>1</th>\n",
       "      <td>janderis@yahooo.com</td>\n",
       "      <td>Andersas</td>\n",
       "      <td>JANESAS</td>\n",
       "      <td>Andersas</td>\n",
       "    </tr>\n",
       "    <tr>\n",
       "      <th>2</th>\n",
       "      <td>timjogn@gmail.com</td>\n",
       "      <td>Vasil</td>\n",
       "      <td>JOE</td>\n",
       "      <td>Vasil</td>\n",
       "    </tr>\n",
       "    <tr>\n",
       "      <th>3</th>\n",
       "      <td>otos@mil.com</td>\n",
       "      <td>KAris</td>\n",
       "      <td>Otis</td>\n",
       "      <td>Puzinas</td>\n",
       "    </tr>\n",
       "    <tr>\n",
       "      <th>4</th>\n",
       "      <td>valentasas@mil.com</td>\n",
       "      <td>Marinauskas</td>\n",
       "      <td>Valentas</td>\n",
       "      <td>Marin</td>\n",
       "    </tr>\n",
       "  </tbody>\n",
       "</table>\n",
       "</div>"
      ],
      "text/plain": [
       "             emailasas    last name    vardas        Last\n",
       "0      myk.rut@milo.lt   RUtkauskas     Kazys  RUtkauskas\n",
       "1  janderis@yahooo.com     Andersas   JANESAS    Andersas\n",
       "2    timjogn@gmail.com        Vasil       JOE       Vasil\n",
       "3         otos@mil.com        KAris      Otis     Puzinas\n",
       "4   valentasas@mil.com  Marinauskas  Valentas       Marin"
      ]
     },
     "execution_count": 478,
     "metadata": {},
     "output_type": "execute_result"
    }
   ],
   "source": [
    "df"
   ]
  },
  {
   "cell_type": "code",
   "execution_count": 490,
   "id": "3064262d-23e0-4df5-bce3-0119302c8dca",
   "metadata": {},
   "outputs": [],
   "source": [
    "df[\"last name\"] = df[\"last name\"].str.capitalize()\n",
    "df[\"vardas\"] = df[\"vardas\"].str.capitalize()\n",
    "df[\"Last\"] = df[\"Last\"].str.capitalize()"
   ]
  },
  {
   "cell_type": "code",
   "execution_count": 491,
   "id": "669ce599-040b-4259-89e6-462a33fbebed",
   "metadata": {},
   "outputs": [
    {
     "data": {
      "text/html": [
       "<div>\n",
       "<style scoped>\n",
       "    .dataframe tbody tr th:only-of-type {\n",
       "        vertical-align: middle;\n",
       "    }\n",
       "\n",
       "    .dataframe tbody tr th {\n",
       "        vertical-align: top;\n",
       "    }\n",
       "\n",
       "    .dataframe thead th {\n",
       "        text-align: right;\n",
       "    }\n",
       "</style>\n",
       "<table border=\"1\" class=\"dataframe\">\n",
       "  <thead>\n",
       "    <tr style=\"text-align: right;\">\n",
       "      <th></th>\n",
       "      <th>emailasas</th>\n",
       "      <th>last name</th>\n",
       "      <th>vardas</th>\n",
       "      <th>Last</th>\n",
       "    </tr>\n",
       "  </thead>\n",
       "  <tbody>\n",
       "    <tr>\n",
       "      <th>0</th>\n",
       "      <td>myk.rut@milo.lt</td>\n",
       "      <td>Rutkauskas</td>\n",
       "      <td>Kazys</td>\n",
       "      <td>Rutkauskas</td>\n",
       "    </tr>\n",
       "    <tr>\n",
       "      <th>1</th>\n",
       "      <td>janderis@yahooo.com</td>\n",
       "      <td>Andersas</td>\n",
       "      <td>Janesas</td>\n",
       "      <td>Andersas</td>\n",
       "    </tr>\n",
       "    <tr>\n",
       "      <th>2</th>\n",
       "      <td>timjogn@gmail.com</td>\n",
       "      <td>Vasil</td>\n",
       "      <td>Joe</td>\n",
       "      <td>Vasil</td>\n",
       "    </tr>\n",
       "    <tr>\n",
       "      <th>3</th>\n",
       "      <td>otos@mil.com</td>\n",
       "      <td>Karis</td>\n",
       "      <td>Otis</td>\n",
       "      <td>Puzinas</td>\n",
       "    </tr>\n",
       "    <tr>\n",
       "      <th>4</th>\n",
       "      <td>valentasas@mil.com</td>\n",
       "      <td>Marinauskas</td>\n",
       "      <td>Valentas</td>\n",
       "      <td>Marin</td>\n",
       "    </tr>\n",
       "  </tbody>\n",
       "</table>\n",
       "</div>"
      ],
      "text/plain": [
       "             emailasas    last name    vardas        Last\n",
       "0      myk.rut@milo.lt   Rutkauskas     Kazys  Rutkauskas\n",
       "1  janderis@yahooo.com     Andersas   Janesas    Andersas\n",
       "2    timjogn@gmail.com        Vasil       Joe       Vasil\n",
       "3         otos@mil.com        Karis      Otis     Puzinas\n",
       "4   valentasas@mil.com  Marinauskas  Valentas       Marin"
      ]
     },
     "execution_count": 491,
     "metadata": {},
     "output_type": "execute_result"
    }
   ],
   "source": [
    "df"
   ]
  },
  {
   "cell_type": "code",
   "execution_count": 494,
   "id": "b85c34b3-fcf6-4cff-b1b0-2ab5ac24a4fe",
   "metadata": {},
   "outputs": [
    {
     "data": {
      "text/html": [
       "<div>\n",
       "<style scoped>\n",
       "    .dataframe tbody tr th:only-of-type {\n",
       "        vertical-align: middle;\n",
       "    }\n",
       "\n",
       "    .dataframe tbody tr th {\n",
       "        vertical-align: top;\n",
       "    }\n",
       "\n",
       "    .dataframe thead th {\n",
       "        text-align: right;\n",
       "    }\n",
       "</style>\n",
       "<table border=\"1\" class=\"dataframe\">\n",
       "  <thead>\n",
       "    <tr style=\"text-align: right;\">\n",
       "      <th></th>\n",
       "      <th>emailasas</th>\n",
       "      <th>last name</th>\n",
       "      <th>vardas</th>\n",
       "      <th>Last</th>\n",
       "    </tr>\n",
       "  </thead>\n",
       "  <tbody>\n",
       "    <tr>\n",
       "      <th>2</th>\n",
       "      <td>timjogn@gmail.com</td>\n",
       "      <td>Vasil</td>\n",
       "      <td>Joe</td>\n",
       "      <td>Vasil</td>\n",
       "    </tr>\n",
       "    <tr>\n",
       "      <th>0</th>\n",
       "      <td>myk.rut@milo.lt</td>\n",
       "      <td>Rutkauskas</td>\n",
       "      <td>Kazys</td>\n",
       "      <td>Rutkauskas</td>\n",
       "    </tr>\n",
       "    <tr>\n",
       "      <th>3</th>\n",
       "      <td>otos@mil.com</td>\n",
       "      <td>Karis</td>\n",
       "      <td>Otis</td>\n",
       "      <td>Puzinas</td>\n",
       "    </tr>\n",
       "    <tr>\n",
       "      <th>4</th>\n",
       "      <td>valentasas@mil.com</td>\n",
       "      <td>Marinauskas</td>\n",
       "      <td>Valentas</td>\n",
       "      <td>Marin</td>\n",
       "    </tr>\n",
       "    <tr>\n",
       "      <th>1</th>\n",
       "      <td>janderis@yahooo.com</td>\n",
       "      <td>Andersas</td>\n",
       "      <td>Janesas</td>\n",
       "      <td>Andersas</td>\n",
       "    </tr>\n",
       "  </tbody>\n",
       "</table>\n",
       "</div>"
      ],
      "text/plain": [
       "             emailasas    last name    vardas        Last\n",
       "2    timjogn@gmail.com        Vasil       Joe       Vasil\n",
       "0      myk.rut@milo.lt   Rutkauskas     Kazys  Rutkauskas\n",
       "3         otos@mil.com        Karis      Otis     Puzinas\n",
       "4   valentasas@mil.com  Marinauskas  Valentas       Marin\n",
       "1  janderis@yahooo.com     Andersas   Janesas    Andersas"
      ]
     },
     "execution_count": 494,
     "metadata": {},
     "output_type": "execute_result"
    }
   ],
   "source": [
    "df.sort_values(by= \"Last\", ascending = False)"
   ]
  },
  {
   "cell_type": "code",
   "execution_count": 495,
   "id": "e7a52833-56ea-4431-8712-8ee62e576678",
   "metadata": {},
   "outputs": [
    {
     "data": {
      "text/html": [
       "<div>\n",
       "<style scoped>\n",
       "    .dataframe tbody tr th:only-of-type {\n",
       "        vertical-align: middle;\n",
       "    }\n",
       "\n",
       "    .dataframe tbody tr th {\n",
       "        vertical-align: top;\n",
       "    }\n",
       "\n",
       "    .dataframe thead th {\n",
       "        text-align: right;\n",
       "    }\n",
       "</style>\n",
       "<table border=\"1\" class=\"dataframe\">\n",
       "  <thead>\n",
       "    <tr style=\"text-align: right;\">\n",
       "      <th></th>\n",
       "      <th>emailasas</th>\n",
       "      <th>last name</th>\n",
       "      <th>vardas</th>\n",
       "      <th>Last</th>\n",
       "    </tr>\n",
       "  </thead>\n",
       "  <tbody>\n",
       "    <tr>\n",
       "      <th>2</th>\n",
       "      <td>timjogn@gmail.com</td>\n",
       "      <td>Vasil</td>\n",
       "      <td>Joe</td>\n",
       "      <td>Vasil</td>\n",
       "    </tr>\n",
       "    <tr>\n",
       "      <th>0</th>\n",
       "      <td>myk.rut@milo.lt</td>\n",
       "      <td>Rutkauskas</td>\n",
       "      <td>Kazys</td>\n",
       "      <td>Rutkauskas</td>\n",
       "    </tr>\n",
       "    <tr>\n",
       "      <th>3</th>\n",
       "      <td>otos@mil.com</td>\n",
       "      <td>Karis</td>\n",
       "      <td>Otis</td>\n",
       "      <td>Puzinas</td>\n",
       "    </tr>\n",
       "    <tr>\n",
       "      <th>4</th>\n",
       "      <td>valentasas@mil.com</td>\n",
       "      <td>Marinauskas</td>\n",
       "      <td>Valentas</td>\n",
       "      <td>Marin</td>\n",
       "    </tr>\n",
       "    <tr>\n",
       "      <th>1</th>\n",
       "      <td>janderis@yahooo.com</td>\n",
       "      <td>Andersas</td>\n",
       "      <td>Janesas</td>\n",
       "      <td>Andersas</td>\n",
       "    </tr>\n",
       "  </tbody>\n",
       "</table>\n",
       "</div>"
      ],
      "text/plain": [
       "             emailasas    last name    vardas        Last\n",
       "2    timjogn@gmail.com        Vasil       Joe       Vasil\n",
       "0      myk.rut@milo.lt   Rutkauskas     Kazys  Rutkauskas\n",
       "3         otos@mil.com        Karis      Otis     Puzinas\n",
       "4   valentasas@mil.com  Marinauskas  Valentas       Marin\n",
       "1  janderis@yahooo.com     Andersas   Janesas    Andersas"
      ]
     },
     "execution_count": 495,
     "metadata": {},
     "output_type": "execute_result"
    }
   ],
   "source": [
    "df.sort_values(by= [\"Last\", \"vardas\"], ascending = False)"
   ]
  },
  {
   "cell_type": "code",
   "execution_count": 496,
   "id": "f65f56e2-9a08-428a-a508-2eaf75e803c2",
   "metadata": {},
   "outputs": [
    {
     "data": {
      "text/html": [
       "<div>\n",
       "<style scoped>\n",
       "    .dataframe tbody tr th:only-of-type {\n",
       "        vertical-align: middle;\n",
       "    }\n",
       "\n",
       "    .dataframe tbody tr th {\n",
       "        vertical-align: top;\n",
       "    }\n",
       "\n",
       "    .dataframe thead th {\n",
       "        text-align: right;\n",
       "    }\n",
       "</style>\n",
       "<table border=\"1\" class=\"dataframe\">\n",
       "  <thead>\n",
       "    <tr style=\"text-align: right;\">\n",
       "      <th></th>\n",
       "      <th>emailasas</th>\n",
       "      <th>last name</th>\n",
       "      <th>vardas</th>\n",
       "      <th>Last</th>\n",
       "    </tr>\n",
       "  </thead>\n",
       "  <tbody>\n",
       "    <tr>\n",
       "      <th>2</th>\n",
       "      <td>timjogn@gmail.com</td>\n",
       "      <td>Vasil</td>\n",
       "      <td>Joe</td>\n",
       "      <td>Vasil</td>\n",
       "    </tr>\n",
       "    <tr>\n",
       "      <th>0</th>\n",
       "      <td>myk.rut@milo.lt</td>\n",
       "      <td>Rutkauskas</td>\n",
       "      <td>Kazys</td>\n",
       "      <td>Rutkauskas</td>\n",
       "    </tr>\n",
       "    <tr>\n",
       "      <th>3</th>\n",
       "      <td>otos@mil.com</td>\n",
       "      <td>Karis</td>\n",
       "      <td>Otis</td>\n",
       "      <td>Puzinas</td>\n",
       "    </tr>\n",
       "    <tr>\n",
       "      <th>4</th>\n",
       "      <td>valentasas@mil.com</td>\n",
       "      <td>Marinauskas</td>\n",
       "      <td>Valentas</td>\n",
       "      <td>Marin</td>\n",
       "    </tr>\n",
       "    <tr>\n",
       "      <th>1</th>\n",
       "      <td>janderis@yahooo.com</td>\n",
       "      <td>Andersas</td>\n",
       "      <td>Janesas</td>\n",
       "      <td>Andersas</td>\n",
       "    </tr>\n",
       "  </tbody>\n",
       "</table>\n",
       "</div>"
      ],
      "text/plain": [
       "             emailasas    last name    vardas        Last\n",
       "2    timjogn@gmail.com        Vasil       Joe       Vasil\n",
       "0      myk.rut@milo.lt   Rutkauskas     Kazys  Rutkauskas\n",
       "3         otos@mil.com        Karis      Otis     Puzinas\n",
       "4   valentasas@mil.com  Marinauskas  Valentas       Marin\n",
       "1  janderis@yahooo.com     Andersas   Janesas    Andersas"
      ]
     },
     "execution_count": 496,
     "metadata": {},
     "output_type": "execute_result"
    }
   ],
   "source": [
    "df.sort_values(by= [\"Last\", \"vardas\"], ascending = [False, True])"
   ]
  },
  {
   "cell_type": "code",
   "execution_count": 501,
   "id": "2f27c172-c51c-483e-940a-5e48a15009bd",
   "metadata": {},
   "outputs": [],
   "source": [
    "df.loc[5]= [\"kk@lk.lt\", \"kkk\", \"Atas\",\"Puzinas\"]"
   ]
  },
  {
   "cell_type": "code",
   "execution_count": 502,
   "id": "12d386ed-0c51-489e-b22e-54557887a7b8",
   "metadata": {},
   "outputs": [
    {
     "data": {
      "text/html": [
       "<div>\n",
       "<style scoped>\n",
       "    .dataframe tbody tr th:only-of-type {\n",
       "        vertical-align: middle;\n",
       "    }\n",
       "\n",
       "    .dataframe tbody tr th {\n",
       "        vertical-align: top;\n",
       "    }\n",
       "\n",
       "    .dataframe thead th {\n",
       "        text-align: right;\n",
       "    }\n",
       "</style>\n",
       "<table border=\"1\" class=\"dataframe\">\n",
       "  <thead>\n",
       "    <tr style=\"text-align: right;\">\n",
       "      <th></th>\n",
       "      <th>emailasas</th>\n",
       "      <th>last name</th>\n",
       "      <th>vardas</th>\n",
       "      <th>Last</th>\n",
       "    </tr>\n",
       "  </thead>\n",
       "  <tbody>\n",
       "    <tr>\n",
       "      <th>0</th>\n",
       "      <td>myk.rut@milo.lt</td>\n",
       "      <td>Rutkauskas</td>\n",
       "      <td>Kazys</td>\n",
       "      <td>Rutkauskas</td>\n",
       "    </tr>\n",
       "    <tr>\n",
       "      <th>1</th>\n",
       "      <td>janderis@yahooo.com</td>\n",
       "      <td>Andersas</td>\n",
       "      <td>Janesas</td>\n",
       "      <td>Andersas</td>\n",
       "    </tr>\n",
       "    <tr>\n",
       "      <th>2</th>\n",
       "      <td>timjogn@gmail.com</td>\n",
       "      <td>Vasil</td>\n",
       "      <td>Joe</td>\n",
       "      <td>Vasil</td>\n",
       "    </tr>\n",
       "    <tr>\n",
       "      <th>3</th>\n",
       "      <td>otos@mil.com</td>\n",
       "      <td>Karis</td>\n",
       "      <td>Otis</td>\n",
       "      <td>Puzinas</td>\n",
       "    </tr>\n",
       "    <tr>\n",
       "      <th>4</th>\n",
       "      <td>valentasas@mil.com</td>\n",
       "      <td>Marinauskas</td>\n",
       "      <td>Valentas</td>\n",
       "      <td>Marin</td>\n",
       "    </tr>\n",
       "    <tr>\n",
       "      <th>5</th>\n",
       "      <td>kk@lk.lt</td>\n",
       "      <td>kkk</td>\n",
       "      <td>Atas</td>\n",
       "      <td>Puzinas</td>\n",
       "    </tr>\n",
       "  </tbody>\n",
       "</table>\n",
       "</div>"
      ],
      "text/plain": [
       "             emailasas    last name    vardas        Last\n",
       "0      myk.rut@milo.lt   Rutkauskas     Kazys  Rutkauskas\n",
       "1  janderis@yahooo.com     Andersas   Janesas    Andersas\n",
       "2    timjogn@gmail.com        Vasil       Joe       Vasil\n",
       "3         otos@mil.com        Karis      Otis     Puzinas\n",
       "4   valentasas@mil.com  Marinauskas  Valentas       Marin\n",
       "5             kk@lk.lt          kkk      Atas     Puzinas"
      ]
     },
     "execution_count": 502,
     "metadata": {},
     "output_type": "execute_result"
    }
   ],
   "source": [
    "df"
   ]
  },
  {
   "cell_type": "code",
   "execution_count": 505,
   "id": "6a4486b6-b086-4642-adb3-09386187ee55",
   "metadata": {},
   "outputs": [],
   "source": [
    "df.sort_values(by= [\"Last\", \"vardas\"], ascending = [False, True], inplace=True)"
   ]
  },
  {
   "cell_type": "code",
   "execution_count": 506,
   "id": "c1eb4020-058d-44d8-a428-9097620b08e0",
   "metadata": {},
   "outputs": [
    {
     "data": {
      "text/html": [
       "<div>\n",
       "<style scoped>\n",
       "    .dataframe tbody tr th:only-of-type {\n",
       "        vertical-align: middle;\n",
       "    }\n",
       "\n",
       "    .dataframe tbody tr th {\n",
       "        vertical-align: top;\n",
       "    }\n",
       "\n",
       "    .dataframe thead th {\n",
       "        text-align: right;\n",
       "    }\n",
       "</style>\n",
       "<table border=\"1\" class=\"dataframe\">\n",
       "  <thead>\n",
       "    <tr style=\"text-align: right;\">\n",
       "      <th></th>\n",
       "      <th>emailasas</th>\n",
       "      <th>last name</th>\n",
       "      <th>vardas</th>\n",
       "      <th>Last</th>\n",
       "    </tr>\n",
       "  </thead>\n",
       "  <tbody>\n",
       "    <tr>\n",
       "      <th>2</th>\n",
       "      <td>timjogn@gmail.com</td>\n",
       "      <td>Vasil</td>\n",
       "      <td>Joe</td>\n",
       "      <td>Vasil</td>\n",
       "    </tr>\n",
       "    <tr>\n",
       "      <th>0</th>\n",
       "      <td>myk.rut@milo.lt</td>\n",
       "      <td>Rutkauskas</td>\n",
       "      <td>Kazys</td>\n",
       "      <td>Rutkauskas</td>\n",
       "    </tr>\n",
       "    <tr>\n",
       "      <th>5</th>\n",
       "      <td>kk@lk.lt</td>\n",
       "      <td>kkk</td>\n",
       "      <td>Atas</td>\n",
       "      <td>Puzinas</td>\n",
       "    </tr>\n",
       "    <tr>\n",
       "      <th>3</th>\n",
       "      <td>otos@mil.com</td>\n",
       "      <td>Karis</td>\n",
       "      <td>Otis</td>\n",
       "      <td>Puzinas</td>\n",
       "    </tr>\n",
       "    <tr>\n",
       "      <th>4</th>\n",
       "      <td>valentasas@mil.com</td>\n",
       "      <td>Marinauskas</td>\n",
       "      <td>Valentas</td>\n",
       "      <td>Marin</td>\n",
       "    </tr>\n",
       "    <tr>\n",
       "      <th>1</th>\n",
       "      <td>janderis@yahooo.com</td>\n",
       "      <td>Andersas</td>\n",
       "      <td>Janesas</td>\n",
       "      <td>Andersas</td>\n",
       "    </tr>\n",
       "  </tbody>\n",
       "</table>\n",
       "</div>"
      ],
      "text/plain": [
       "             emailasas    last name    vardas        Last\n",
       "2    timjogn@gmail.com        Vasil       Joe       Vasil\n",
       "0      myk.rut@milo.lt   Rutkauskas     Kazys  Rutkauskas\n",
       "5             kk@lk.lt          kkk      Atas     Puzinas\n",
       "3         otos@mil.com        Karis      Otis     Puzinas\n",
       "4   valentasas@mil.com  Marinauskas  Valentas       Marin\n",
       "1  janderis@yahooo.com     Andersas   Janesas    Andersas"
      ]
     },
     "execution_count": 506,
     "metadata": {},
     "output_type": "execute_result"
    }
   ],
   "source": [
    "df\n"
   ]
  },
  {
   "cell_type": "code",
   "execution_count": 507,
   "id": "3aa87646-acf0-4827-b0fb-a0846fbf8948",
   "metadata": {},
   "outputs": [
    {
     "data": {
      "text/html": [
       "<div>\n",
       "<style scoped>\n",
       "    .dataframe tbody tr th:only-of-type {\n",
       "        vertical-align: middle;\n",
       "    }\n",
       "\n",
       "    .dataframe tbody tr th {\n",
       "        vertical-align: top;\n",
       "    }\n",
       "\n",
       "    .dataframe thead th {\n",
       "        text-align: right;\n",
       "    }\n",
       "</style>\n",
       "<table border=\"1\" class=\"dataframe\">\n",
       "  <thead>\n",
       "    <tr style=\"text-align: right;\">\n",
       "      <th></th>\n",
       "      <th>emailasas</th>\n",
       "      <th>last name</th>\n",
       "      <th>vardas</th>\n",
       "      <th>Last</th>\n",
       "    </tr>\n",
       "  </thead>\n",
       "  <tbody>\n",
       "    <tr>\n",
       "      <th>0</th>\n",
       "      <td>myk.rut@milo.lt</td>\n",
       "      <td>Rutkauskas</td>\n",
       "      <td>Kazys</td>\n",
       "      <td>Rutkauskas</td>\n",
       "    </tr>\n",
       "    <tr>\n",
       "      <th>1</th>\n",
       "      <td>janderis@yahooo.com</td>\n",
       "      <td>Andersas</td>\n",
       "      <td>Janesas</td>\n",
       "      <td>Andersas</td>\n",
       "    </tr>\n",
       "    <tr>\n",
       "      <th>2</th>\n",
       "      <td>timjogn@gmail.com</td>\n",
       "      <td>Vasil</td>\n",
       "      <td>Joe</td>\n",
       "      <td>Vasil</td>\n",
       "    </tr>\n",
       "    <tr>\n",
       "      <th>3</th>\n",
       "      <td>otos@mil.com</td>\n",
       "      <td>Karis</td>\n",
       "      <td>Otis</td>\n",
       "      <td>Puzinas</td>\n",
       "    </tr>\n",
       "    <tr>\n",
       "      <th>4</th>\n",
       "      <td>valentasas@mil.com</td>\n",
       "      <td>Marinauskas</td>\n",
       "      <td>Valentas</td>\n",
       "      <td>Marin</td>\n",
       "    </tr>\n",
       "    <tr>\n",
       "      <th>5</th>\n",
       "      <td>kk@lk.lt</td>\n",
       "      <td>kkk</td>\n",
       "      <td>Atas</td>\n",
       "      <td>Puzinas</td>\n",
       "    </tr>\n",
       "  </tbody>\n",
       "</table>\n",
       "</div>"
      ],
      "text/plain": [
       "             emailasas    last name    vardas        Last\n",
       "0      myk.rut@milo.lt   Rutkauskas     Kazys  Rutkauskas\n",
       "1  janderis@yahooo.com     Andersas   Janesas    Andersas\n",
       "2    timjogn@gmail.com        Vasil       Joe       Vasil\n",
       "3         otos@mil.com        Karis      Otis     Puzinas\n",
       "4   valentasas@mil.com  Marinauskas  Valentas       Marin\n",
       "5             kk@lk.lt          kkk      Atas     Puzinas"
      ]
     },
     "execution_count": 507,
     "metadata": {},
     "output_type": "execute_result"
    }
   ],
   "source": [
    "df.sort_index()"
   ]
  },
  {
   "cell_type": "code",
   "execution_count": 510,
   "id": "531aa83f-1129-4061-9094-ad4604117675",
   "metadata": {},
   "outputs": [
    {
     "data": {
      "text/plain": [
       "1      Andersas\n",
       "4         Marin\n",
       "5       Puzinas\n",
       "3       Puzinas\n",
       "0    Rutkauskas\n",
       "2         Vasil\n",
       "Name: Last, dtype: object"
      ]
     },
     "execution_count": 510,
     "metadata": {},
     "output_type": "execute_result"
    }
   ],
   "source": [
    "df[\"Last\"].sort_values(ascending=True)"
   ]
  },
  {
   "cell_type": "code",
   "execution_count": null,
   "id": "560f244c-8450-44bd-8136-c878a58a0c43",
   "metadata": {},
   "outputs": [],
   "source": []
  }
 ],
 "metadata": {
  "kernelspec": {
   "display_name": "Python 3 (ipykernel)",
   "language": "python",
   "name": "python3"
  },
  "language_info": {
   "codemirror_mode": {
    "name": "ipython",
    "version": 3
   },
   "file_extension": ".py",
   "mimetype": "text/x-python",
   "name": "python",
   "nbconvert_exporter": "python",
   "pygments_lexer": "ipython3",
   "version": "3.9.12"
  }
 },
 "nbformat": 4,
 "nbformat_minor": 5
}
